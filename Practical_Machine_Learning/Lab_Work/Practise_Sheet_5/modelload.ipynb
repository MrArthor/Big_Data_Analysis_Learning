{
 "cells": [
  {
   "cell_type": "code",
   "execution_count": 41,
   "metadata": {},
   "outputs": [],
   "source": [
    "import pandas as pd\n",
    "import numpy as np\n",
    "import matplotlib.pyplot as plt\n",
    "import seaborn as sns\n",
    "from sklearn.model_selection import train_test_split\n",
    "from sklearn.neighbors import KNeighborsClassifier\n",
    "from sklearn.preprocessing import StandardScaler\n",
    "from sklearn.metrics import accuracy_score\n",
    "from sklearn.metrics import classification_report,mean_absolute_error,mean_squared_error, r2_score\n",
    "from sklearn.metrics import confusion_matrix, ConfusionMatrixDisplay\n",
    "from ucimlrepo import fetch_ucirepo \n",
    "from sklearn.linear_model import LogisticRegression\n",
    "from sklearn.model_selection import GridSearchCV\n",
    "from sklearn.preprocessing import LabelEncoder\n",
    "from sklearn.datasets import load_iris\n",
    "from sklearn.svm import SVC,SVR\n",
    "from sklearn.datasets import make_classification,make_regression\n",
    "import joblib\n",
    "import os\n",
    "from sklearn.preprocessing import LabelEncoder, StandardScaler, MinMaxScaler\n",
    "from sklearn.feature_extraction.text import TfidfVectorizer\n",
    "from sklearn.model_selection import train_test_split\n",
    "# Import for classification\n",
    "from sklearn.tree import DecisionTreeClassifier\n",
    "from sklearn.ensemble import RandomForestClassifier, RandomForestRegressor\n",
    "# Import for regression\n",
    "from sklearn.tree import DecisionTreeRegressor\n"
   ]
  },
  {
   "cell_type": "code",
   "execution_count": 42,
   "metadata": {},
   "outputs": [],
   "source": [
    "def eda(df, target, type='a'):  # Exploratory Data Analysis\n",
    "\n",
    "\n",
    "    # Display unique label count\n",
    "    unique_count = df[target].nunique()\n",
    "    print(\"Label Count =\", unique_count)\n",
    "\n",
    "    # Type 'a': Standard preprocessing\n",
    "    if type == 'a':\n",
    "        for col in df.select_dtypes(include=['object']).columns:\n",
    "            label_encoder = LabelEncoder()\n",
    "            df[col] = label_encoder.fit_transform(df[col])\n",
    "        # Handle missing values\n",
    "        print(df.isnull().sum())\n",
    "        df.fillna(df.mean(), inplace=True)  \n",
    "        x = df.drop(columns=[target])\n",
    "        y = df[target]\n",
    "        x_train, x_test, y_train, y_test = train_test_split(x, y, test_size=0.2, random_state=42)\n",
    "\n",
    "        # Apply StandardScaler and MinMaxScaler\n",
    "        sc = StandardScaler()\n",
    "        x_train = sc.fit_transform(x_train)\n",
    "        x_test = sc.transform(x_test)\n",
    "\n",
    "        scaler = MinMaxScaler()\n",
    "        x_train = scaler.fit_transform(x_train)\n",
    "        x_test = scaler.transform(x_test)\n",
    "\n",
    "        print(df.shape)\n",
    "        return x_train, x_test, y_train, y_test\n",
    "\n",
    "    # Type 'b': TF-IDF for text data\n",
    "    if type == 'b':\n",
    "        df.dropna(inplace=True)\n",
    "        x = df[target].astype(str)  # Use only the text column for vectorization\n",
    "        y = df[target]\n",
    "\n",
    "        # Ensure labels are categorical\n",
    "        if not y.dtype == 'object':\n",
    "            label_encoder = LabelEncoder()\n",
    "            y = label_encoder.fit_transform(y)\n",
    "\n",
    "        x_train_raw, x_test_raw, y_train, y_test = train_test_split(x, y, test_size=0.2, random_state=0)\n",
    "\n",
    "        vectorizer = TfidfVectorizer()\n",
    "        x_train = vectorizer.fit_transform(x_train_raw)\n",
    "        x_test = vectorizer.transform(x_test_raw)\n",
    "\n",
    "        return x_train, x_test, y_train, y_test\n"
   ]
  },
  {
   "cell_type": "code",
   "execution_count": 43,
   "metadata": {},
   "outputs": [],
   "source": [
    "base_path= '/home/mr-arthor/Desktop/CDAC/Practical_Machine_Learning/Lab_Work/Datasets'\n",
    "Launch_Path= 'Models/'\n",
    "os.makedirs(Launch_Path, exist_ok=True)\n"
   ]
  },
  {
   "cell_type": "code",
   "execution_count": 44,
   "metadata": {},
   "outputs": [
    {
     "name": "stderr",
     "output_type": "stream",
     "text": [
      "/tmp/ipykernel_7219/4233386176.py:1: DtypeWarning: Columns (25) have mixed types. Specify dtype option on import or set low_memory=False.\n",
      "  df_AirBnb = pd.read_csv(base_path+'/Airbnb_Open_Data.csv')\n"
     ]
    }
   ],
   "source": [
    "df_AirBnb = pd.read_csv(base_path+'/Airbnb_Open_Data.csv')\n",
    "df_AirBnb.drop(columns=['id','NAME','host id','host name','last review','reviews per month'],inplace=True)\n"
   ]
  },
  {
   "cell_type": "code",
   "execution_count": 45,
   "metadata": {},
   "outputs": [],
   "source": [
    "df_AirBnb = df_AirBnb.iloc[15000:,:]\n"
   ]
  },
  {
   "cell_type": "code",
   "execution_count": 46,
   "metadata": {},
   "outputs": [
    {
     "name": "stdout",
     "output_type": "stream",
     "text": [
      "Label Count = 1151\n",
      "host_identity_verified              0\n",
      "neighbourhood group                 0\n",
      "neighbourhood                       0\n",
      "lat                                 0\n",
      "long                                0\n",
      "country                             0\n",
      "country code                        0\n",
      "instant_bookable                    0\n",
      "cancellation_policy                 0\n",
      "room type                           0\n",
      "Construction year                  71\n",
      "price                               0\n",
      "service fee                         0\n",
      "minimum nights                    249\n",
      "number of reviews                 167\n",
      "review rate number                223\n",
      "calculated host listings count    296\n",
      "availability 365                  300\n",
      "house_rules                         0\n",
      "license                             0\n",
      "dtype: int64\n",
      "(87599, 20)\n"
     ]
    }
   ],
   "source": [
    "x_train, x_test, y_train, y_test = eda(df_AirBnb, 'price', type='a')\n"
   ]
  },
  {
   "cell_type": "code",
   "execution_count": 47,
   "metadata": {},
   "outputs": [],
   "source": [
    "model_path = Launch_Path + 'AirBnb' + '.pkl'\n",
    "loaded_model = joblib.load(model_path)\n",
    "y_pred= loaded_model.predict(x_test)\n"
   ]
  },
  {
   "cell_type": "code",
   "execution_count": 48,
   "metadata": {},
   "outputs": [
    {
     "name": "stdout",
     "output_type": "stream",
     "text": [
      "Mean Absolute Error 176.4574808239758\n",
      "Mean Squared Error 60881.53492071309\n",
      "R2 Score 0.4563442305410722\n"
     ]
    }
   ],
   "source": [
    "print(\"Mean Absolute Error\", mean_absolute_error(y_test, y_pred))\n",
    "print(\"Mean Squared Error\", mean_squared_error(y_test, y_pred))\n",
    "print('R2 Score', r2_score(y_test, y_pred))\n"
   ]
  }
 ],
 "metadata": {
  "kernelspec": {
   "display_name": "Python 3",
   "language": "python",
   "name": "python3"
  },
  "language_info": {
   "codemirror_mode": {
    "name": "ipython",
    "version": 3
   },
   "file_extension": ".py",
   "mimetype": "text/x-python",
   "name": "python",
   "nbconvert_exporter": "python",
   "pygments_lexer": "ipython3",
   "version": "3.12.3"
  }
 },
 "nbformat": 4,
 "nbformat_minor": 2
}
