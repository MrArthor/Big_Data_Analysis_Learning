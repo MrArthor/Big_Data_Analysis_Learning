{
 "cells": [
  {
   "cell_type": "code",
   "execution_count": null,
   "metadata": {},
   "outputs": [],
   "source": [
    "\n"
   ]
  },
  {
   "cell_type": "markdown",
   "metadata": {},
   "source": [
    "### Q1. Create a dictionary in Python using the following data and perform the following operations:\n",
    "    Prod_Name: OppoA9, Prod_model: 2012, Prod_cost: 25000, Prod_Year: 2014, Prod_Brand: Oppo\n",
    "    a. Create a dictionary and access the product model and product cost.\n",
    "    b. Find all the keys we use in this dictionary.\n",
    "    c. Change the product cost 25000 Rs to 22000 Rs.\n",
    "    d. Add the items \"Prod-weight\" in the dictionary.\n",
    "    e. Remove the Prod-Year from the dictionary."
   ]
  },
  {
   "cell_type": "code",
   "execution_count": 1,
   "metadata": {},
   "outputs": [
    {
     "name": "stdout",
     "output_type": "stream",
     "text": [
      "Product Model: 2012\n",
      "Product Cost: 25000\n",
      "All keys in the dictionary: ['Prod_Name', 'Prod_model', 'Prod_cost', 'Prod_Year', 'Prod_Brand']\n",
      "Updated Product Cost: 22000\n",
      "Dictionary after adding 'Prod-weight': {'Prod_Name': 'OppoA9', 'Prod_model': 2012, 'Prod_cost': 22000, 'Prod_Year': 2014, 'Prod_Brand': 'Oppo', 'Prod-weight': '200 grams'}\n",
      "Dictionary after removing 'Prod_Year': {'Prod_Name': 'OppoA9', 'Prod_model': 2012, 'Prod_cost': 22000, 'Prod_Brand': 'Oppo', 'Prod-weight': '200 grams'}\n"
     ]
    }
   ],
   "source": [
    "# Creating the dictionary\n",
    "product = {\n",
    "    \"Prod_Name\": \"OppoA9\",\n",
    "    \"Prod_model\": 2012,\n",
    "    \"Prod_cost\": 25000,\n",
    "    \"Prod_Year\": 2014,\n",
    "    \"Prod_Brand\": \"Oppo\"\n",
    "}\n",
    "\n",
    "# (a) Accessing the product model and product cost\n",
    "print(\"Product Model:\", product[\"Prod_model\"])\n",
    "print(\"Product Cost:\", product[\"Prod_cost\"])\n",
    "\n",
    "# (b) Finding all keys\n",
    "print(\"All keys in the dictionary:\", list(product.keys()))\n",
    "\n",
    "# (c) Changing the product cost\n",
    "product[\"Prod_cost\"] = 22000\n",
    "print(\"Updated Product Cost:\", product[\"Prod_cost\"])\n",
    "\n",
    "# (d) Adding \"Prod-weight\" to the dictionary\n",
    "product[\"Prod-weight\"] = \"200 grams\"\n",
    "print(\"Dictionary after adding 'Prod-weight':\", product)\n",
    "\n",
    "# (e) Removing \"Prod_Year\" from the dictionary\n",
    "del product[\"Prod_Year\"]\n",
    "print(\"Dictionary after removing 'Prod_Year':\", product)\n"
   ]
  },
  {
   "cell_type": "markdown",
   "metadata": {},
   "source": [
    "### Q2. Create a list from the given items and perform the following operations:\n",
    "    Football, volleyball, tennis, Basketball, Scouting, Running\n",
    "    a. Create a list and access the first 3 items from the list.\n",
    "    b. Access the element from the [-3] index and return the result.\n",
    "    c. Change the item of index [4] and update the new item as \"CDAC\".\n",
    "    d. Check and show if the item \"tennis\" exists in the list or not.\n",
    "    e. Add elements in the list at index [5] with name \"Delhi\".\n"
   ]
  },
  {
   "cell_type": "code",
   "execution_count": 2,
   "metadata": {},
   "outputs": [
    {
     "name": "stdout",
     "output_type": "stream",
     "text": [
      "First 3 items: ['Football', 'volleyball', 'tennis']\n",
      "Element at [-3] index: Basketball\n",
      "List after updating index [4]: ['Football', 'volleyball', 'tennis', 'Basketball', 'CDAC', 'Running']\n",
      "'tennis' exists in the list: True\n",
      "List after adding 'Delhi' at index [5]: ['Football', 'volleyball', 'tennis', 'Basketball', 'CDAC', 'Delhi', 'Running']\n"
     ]
    }
   ],
   "source": [
    "# Creating the list\n",
    "items = [\"Football\", \"volleyball\", \"tennis\", \"Basketball\", \"Scouting\", \"Running\"]\n",
    "\n",
    "# (a) Access the first 3 items\n",
    "print(\"First 3 items:\", items[:3])\n",
    "\n",
    "# (b) Access the element from the [-3] index\n",
    "print(\"Element at [-3] index:\", items[-3])\n",
    "\n",
    "# (c) Change the item at index [4] to 'CDAC'\n",
    "items[4] = \"CDAC\"\n",
    "print(\"List after updating index [4]:\", items)\n",
    "\n",
    "# (d) Check if 'tennis' exists\n",
    "print(\"'tennis' exists in the list:\", \"tennis\" in items)\n",
    "\n",
    "# (e) Add 'Delhi' at index [5]\n",
    "items.insert(5, \"Delhi\")\n",
    "print(\"List after adding 'Delhi' at index [5]:\", items)\n"
   ]
  },
  {
   "cell_type": "markdown",
   "metadata": {},
   "source": [
    "### Q3. Use the data set \"Employee.csv\" and perform the following operations using pandas library:\n",
    "    a. Select Emp_id, JoiningYear, Age, ExperienceInCurrentDomain, City from the dataset and export the data set in a new file.\n",
    "    b. Find the missing values in 'Age' and fill them by using 'Median' Method.\n",
    "    c. Drop the missing values from the dataset.\n",
    "    d. Find all the employees who belong to 'Bangalore'.\n",
    "    e. From which city maximum employees are working in the company.\n"
   ]
  },
  {
   "cell_type": "code",
   "execution_count": 3,
   "metadata": {},
   "outputs": [
    {
     "name": "stdout",
     "output_type": "stream",
     "text": [
      "Selected columns exported to 'selected_employee_data.csv'.\n",
      "Missing values in 'Age' filled with the median value: 28.0\n",
      "Data after dropping missing values:\n",
      "     Emp_id  Education  JoiningYear       City  PaymentTier   Age  Gender  \\\n",
      "0       E01  Bachelors       2017.0  Bangalore          3.0  34.0    Male   \n",
      "1       E02  Bachelors       2013.0       Pune          1.0  28.0  Female   \n",
      "2       E03  Bachelors       2014.0  New Delhi          3.0  38.0  Female   \n",
      "3       E04    Masters       2016.0  Bangalore          3.0  27.0    Male   \n",
      "4       E05    Masters       2017.0       Pune          3.0  24.0    Male   \n",
      "...     ...        ...          ...        ...          ...   ...     ...   \n",
      "4648  E4649  Bachelors       2013.0  Bangalore          3.0  26.0  Female   \n",
      "4649  E4650    Masters       2013.0       Pune          2.0  37.0    Male   \n",
      "4650  E4651    Masters       2018.0  New Delhi          3.0  27.0    Male   \n",
      "4651  E4652  Bachelors       2012.0  Bangalore          3.0  30.0    Male   \n",
      "4652  E4653  Bachelors       2015.0  Bangalore          3.0  33.0    Male   \n",
      "\n",
      "     EverBenched  ExperienceInCurrentDomain  LeaveOrNot  \n",
      "0             No                          0         0.0  \n",
      "1             No                          3         1.0  \n",
      "2             No                          2         0.0  \n",
      "3             No                          5         1.0  \n",
      "4            Yes                          2         1.0  \n",
      "...          ...                        ...         ...  \n",
      "4648          No                          4         0.0  \n",
      "4649          No                          2         1.0  \n",
      "4650          No                          5         1.0  \n",
      "4651         Yes                          2         0.0  \n",
      "4652         Yes                          4         0.0  \n",
      "\n",
      "[4639 rows x 10 columns]\n",
      "Employees from Bangalore:\n",
      "     Emp_id  Education  JoiningYear       City  PaymentTier   Age  Gender  \\\n",
      "0       E01  Bachelors       2017.0  Bangalore          3.0  34.0    Male   \n",
      "3       E04    Masters       2016.0  Bangalore          3.0  27.0    Male   \n",
      "5       E06  Bachelors       2016.0  Bangalore          3.0  22.0    Male   \n",
      "7       E08  Bachelors       2016.0  Bangalore          3.0  34.0  Female   \n",
      "10      E11    Masters       2012.0  Bangalore          3.0  27.0    Male   \n",
      "...     ...        ...          ...        ...          ...   ...     ...   \n",
      "4643  E4644  Bachelors       2013.0  Bangalore          3.0  31.0  Female   \n",
      "4646  E4647  Bachelors       2013.0  Bangalore          3.0  25.0  Female   \n",
      "4648  E4649  Bachelors       2013.0  Bangalore          3.0  26.0  Female   \n",
      "4651  E4652  Bachelors       2012.0  Bangalore          3.0  30.0    Male   \n",
      "4652  E4653  Bachelors       2015.0  Bangalore          3.0  33.0    Male   \n",
      "\n",
      "     EverBenched  ExperienceInCurrentDomain  LeaveOrNot  \n",
      "0             No                          0         0.0  \n",
      "3             No                          5         1.0  \n",
      "5             No                          0         0.0  \n",
      "7             No                          2         1.0  \n",
      "10            No                          5         1.0  \n",
      "...          ...                        ...         ...  \n",
      "4643          No                          5         0.0  \n",
      "4646          No                          3         0.0  \n",
      "4648          No                          4         0.0  \n",
      "4651         Yes                          2         0.0  \n",
      "4652         Yes                          4         0.0  \n",
      "\n",
      "[2220 rows x 10 columns]\n",
      "City with the maximum employees: Bangalore\n"
     ]
    }
   ],
   "source": [
    "import pandas as pd\n",
    "\n",
    "# Load the CSV file into a DataFrame\n",
    "df = pd.read_csv(\"Employee.csv\")\n",
    "\n",
    "# (a) Select 'Emp_id', 'JoiningYear', 'Age', 'ExperienceInCurrentDomain', 'City' columns and export\n",
    "selected_columns = df[[\"Emp_id\", \"JoiningYear\", \"Age\", \"ExperienceInCurrentDomain\", \"City\"]]\n",
    "selected_columns.to_csv(\"selected_employee_data.csv\", index=False)\n",
    "print(\"Selected columns exported to 'selected_employee_data.csv'.\")\n",
    "\n",
    "# (b) Find missing values in 'Age' and fill them using the median method\n",
    "if df[\"Age\"].isnull().any():\n",
    "    median_age = df[\"Age\"].median()\n",
    "    df[\"Age\"] = df[\"Age\"].fillna(median_age)\n",
    "    print(f\"Missing values in 'Age' filled with the median value: {median_age}\")\n",
    "\n",
    "# (c) Drop any remaining rows with missing values\n",
    "df = df.dropna()\n",
    "print(\"Data after dropping missing values:\")\n",
    "print(df)\n",
    "\n",
    "# (d) Find all employees who belong to 'Bangalore'\n",
    "bangalore_employees = df[df[\"City\"] == \"Bangalore\"]\n",
    "print(\"Employees from Bangalore:\")\n",
    "print(bangalore_employees)\n",
    "\n",
    "# (e) Find the city with the maximum employees\n",
    "city_with_max_employees = df[\"City\"].value_counts().idxmax()\n",
    "print(\"City with the maximum employees:\", city_with_max_employees)\n"
   ]
  },
  {
   "cell_type": "markdown",
   "metadata": {},
   "source": [
    "### Q4. Create a SQL data table \"Employe\" in Python and perform CRUD operations:\n",
    "    a. Use a switch menu to allow users to create, read, update, and delete employees interactively.\n",
    "    b. Connect to a MySQL server with username \"root\" and password \"009483\".\n"
   ]
  },
  {
   "cell_type": "code",
   "execution_count": 4,
   "metadata": {},
   "outputs": [
    {
     "name": "stdout",
     "output_type": "stream",
     "text": [
      "\n",
      "--- Employee Management System ---\n",
      "1. Create Employee\n",
      "2. Read Employees\n",
      "3. Update Employee\n",
      "4. Delete Employee\n",
      "5. Exit\n"
     ]
    },
    {
     "name": "stdin",
     "output_type": "stream",
     "text": [
      "Enter your choice:  3\n",
      "Enter Employee ID to Update:  5\n"
     ]
    },
    {
     "name": "stdout",
     "output_type": "stream",
     "text": [
      "What would you like to update?\n",
      "1. Name\n",
      "2. Age\n",
      "3. City\n",
      "4. Department\n"
     ]
    },
    {
     "name": "stdin",
     "output_type": "stream",
     "text": [
      "Enter your choice:  2\n",
      "Enter New Age:  24\n"
     ]
    },
    {
     "name": "stdout",
     "output_type": "stream",
     "text": [
      "Employee ID 5 updated successfully.\n",
      "\n",
      "--- Employee Management System ---\n",
      "1. Create Employee\n",
      "2. Read Employees\n",
      "3. Update Employee\n",
      "4. Delete Employee\n",
      "5. Exit\n"
     ]
    },
    {
     "name": "stdin",
     "output_type": "stream",
     "text": [
      "Enter your choice:  2\n"
     ]
    },
    {
     "name": "stdout",
     "output_type": "stream",
     "text": [
      "Employee Records:\n",
      "(2, 'Anna', 25, 'Delhi', 'Finance')\n",
      "(4, 'Anna', 25, 'Delhi', 'Finance')\n",
      "(5, 'Vansh', 24, 'Delhi', 'RnD')\n",
      "\n",
      "--- Employee Management System ---\n",
      "1. Create Employee\n",
      "2. Read Employees\n",
      "3. Update Employee\n",
      "4. Delete Employee\n",
      "5. Exit\n"
     ]
    },
    {
     "name": "stdin",
     "output_type": "stream",
     "text": [
      "Enter your choice:  3\n",
      "Enter Employee ID to Update:  5\n"
     ]
    },
    {
     "name": "stdout",
     "output_type": "stream",
     "text": [
      "What would you like to update?\n",
      "1. Name\n",
      "2. Age\n",
      "3. City\n",
      "4. Department\n"
     ]
    },
    {
     "name": "stdin",
     "output_type": "stream",
     "text": [
      "Enter your choice:  3\n",
      "Enter New City:  New Delhi\n"
     ]
    },
    {
     "name": "stdout",
     "output_type": "stream",
     "text": [
      "Employee ID 5 updated successfully.\n",
      "\n",
      "--- Employee Management System ---\n",
      "1. Create Employee\n",
      "2. Read Employees\n",
      "3. Update Employee\n",
      "4. Delete Employee\n",
      "5. Exit\n"
     ]
    },
    {
     "name": "stdin",
     "output_type": "stream",
     "text": [
      "Enter your choice:  2\n"
     ]
    },
    {
     "name": "stdout",
     "output_type": "stream",
     "text": [
      "Employee Records:\n",
      "(2, 'Anna', 25, 'Delhi', 'Finance')\n",
      "(4, 'Anna', 25, 'Delhi', 'Finance')\n",
      "(5, 'Vansh', 24, 'New Delhi', 'RnD')\n",
      "\n",
      "--- Employee Management System ---\n",
      "1. Create Employee\n",
      "2. Read Employees\n",
      "3. Update Employee\n",
      "4. Delete Employee\n",
      "5. Exit\n"
     ]
    },
    {
     "name": "stdin",
     "output_type": "stream",
     "text": [
      "Enter your choice:  1\n",
      "Enter Employee Name:  Mr Arthor\n",
      "Enter Employee Age:  23\n",
      "Enter Employee City:  Mumbai\n",
      "Enter Employee Department:  Intern\n"
     ]
    },
    {
     "name": "stdout",
     "output_type": "stream",
     "text": [
      "Employee Mr Arthor added successfully.\n",
      "\n",
      "--- Employee Management System ---\n",
      "1. Create Employee\n",
      "2. Read Employees\n",
      "3. Update Employee\n",
      "4. Delete Employee\n",
      "5. Exit\n"
     ]
    },
    {
     "name": "stdin",
     "output_type": "stream",
     "text": [
      "Enter your choice:  5\n"
     ]
    },
    {
     "name": "stdout",
     "output_type": "stream",
     "text": [
      "Exiting the program.\n"
     ]
    }
   ],
   "source": [
    "import mysql.connector\n",
    "\n",
    "# Connect to MySQL server\n",
    "conn = mysql.connector.connect(\n",
    "    host=\"localhost\",\n",
    "    user=\"root\",\n",
    "    password=\"009483\",\n",
    "    database=\"test_db\"  # Replace with your database name or create this\n",
    ")\n",
    "\n",
    "cursor = conn.cursor()\n",
    "\n",
    "# Create the table if it doesn't already exist\n",
    "cursor.execute(\"\"\"\n",
    "CREATE TABLE IF NOT EXISTS Employe (\n",
    "    ID INT AUTO_INCREMENT PRIMARY KEY,\n",
    "    Name VARCHAR(50),\n",
    "    Age INT,\n",
    "    City VARCHAR(50),\n",
    "    Department VARCHAR(50)\n",
    ")\n",
    "\"\"\")\n",
    "\n",
    "# Define a function for each operation\n",
    "def create_employee():\n",
    "    name = input(\"Enter Employee Name: \")\n",
    "    age = int(input(\"Enter Employee Age: \"))\n",
    "    city = input(\"Enter Employee City: \")\n",
    "    department = input(\"Enter Employee Department: \")\n",
    "    \n",
    "    query = \"INSERT INTO Employe (Name, Age, City, Department) VALUES (%s, %s, %s, %s)\"\n",
    "    values = (name, age, city, department)\n",
    "    cursor.execute(query, values)\n",
    "    conn.commit()\n",
    "    print(f\"Employee {name} added successfully.\")\n",
    "\n",
    "def read_employees():\n",
    "    cursor.execute(\"SELECT * FROM Employe\")\n",
    "    records = cursor.fetchall()\n",
    "    print(\"Employee Records:\")\n",
    "    for record in records:\n",
    "        print(record)\n",
    "\n",
    "def update_employee():\n",
    "    emp_id = int(input(\"Enter Employee ID to Update: \"))\n",
    "    print(\"What would you like to update?\")\n",
    "    print(\"1. Name\")\n",
    "    print(\"2. Age\")\n",
    "    print(\"3. City\")\n",
    "    print(\"4. Department\")\n",
    "    choice = int(input(\"Enter your choice: \"))\n",
    "    \n",
    "    if choice == 1:\n",
    "        new_value = input(\"Enter New Name: \")\n",
    "        query = \"UPDATE Employe SET Name = %s WHERE ID = %s\"\n",
    "    elif choice == 2:\n",
    "        new_value = int(input(\"Enter New Age: \"))\n",
    "        query = \"UPDATE Employe SET Age = %s WHERE ID = %s\"\n",
    "    elif choice == 3:\n",
    "        new_value = input(\"Enter New City: \")\n",
    "        query = \"UPDATE Employe SET City = %s WHERE ID = %s\"\n",
    "    elif choice == 4:\n",
    "        new_value = input(\"Enter New Department: \")\n",
    "        query = \"UPDATE Employe SET Department = %s WHERE ID = %s\"\n",
    "    else:\n",
    "        print(\"Invalid choice.\")\n",
    "        return\n",
    "    \n",
    "    cursor.execute(query, (new_value, emp_id))\n",
    "    conn.commit()\n",
    "    print(f\"Employee ID {emp_id} updated successfully.\")\n",
    "\n",
    "def delete_employee():\n",
    "    emp_id = int(input(\"Enter Employee ID to Delete: \"))\n",
    "    query = \"DELETE FROM Employe WHERE ID = %s\"\n",
    "    cursor.execute(query, (emp_id,))\n",
    "    conn.commit()\n",
    "    print(f\"Employee ID {emp_id} deleted successfully.\")\n",
    "\n",
    "# Menu-driven program\n",
    "while True:\n",
    "    print(\"\\n--- Employee Management System ---\")\n",
    "    print(\"1. Create Employee\")\n",
    "    print(\"2. Read Employees\")\n",
    "    print(\"3. Update Employee\")\n",
    "    print(\"4. Delete Employee\")\n",
    "    print(\"5. Exit\")\n",
    "    \n",
    "    choice = int(input(\"Enter your choice: \"))\n",
    "    \n",
    "    if choice == 1:\n",
    "        create_employee()\n",
    "    elif choice == 2:\n",
    "        read_employees()\n",
    "    elif choice == 3:\n",
    "        update_employee()\n",
    "    elif choice == 4:\n",
    "        delete_employee()\n",
    "    elif choice == 5:\n",
    "        print(\"Exiting the program.\")\n",
    "        break\n",
    "    else:\n",
    "        print(\"Invalid choice. Please try again.\")\n",
    "\n",
    "# Close the connection\n",
    "conn.close()\n"
   ]
  },
  {
   "cell_type": "code",
   "execution_count": null,
   "metadata": {},
   "outputs": [],
   "source": []
  },
  {
   "cell_type": "code",
   "execution_count": null,
   "metadata": {},
   "outputs": [],
   "source": []
  }
 ],
 "metadata": {
  "kernelspec": {
   "display_name": "Python 3 (ipykernel)",
   "language": "python",
   "name": "python3"
  },
  "language_info": {
   "codemirror_mode": {
    "name": "ipython",
    "version": 3
   },
   "file_extension": ".py",
   "mimetype": "text/x-python",
   "name": "python",
   "nbconvert_exporter": "python",
   "pygments_lexer": "ipython3",
   "version": "3.12.7"
  }
 },
 "nbformat": 4,
 "nbformat_minor": 4
}
