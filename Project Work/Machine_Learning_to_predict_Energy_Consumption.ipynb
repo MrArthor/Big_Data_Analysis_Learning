{
 "cells": [
  {
   "cell_type": "markdown",
   "metadata": {
    "id": "tf75EEGsZKcY"
   },
   "source": [
    "# Data"
   ]
  },
  {
   "cell_type": "code",
   "execution_count": 1,
   "metadata": {
    "id": "AjMZpWwpm7oX"
   },
   "outputs": [],
   "source": [
    "# Imports\n",
    "import pandas as pd\n",
    "import numpy as np\n",
    "import matplotlib.pyplot as plt\n",
    "import seaborn as sns\n"
   ]
  },
  {
   "cell_type": "code",
   "execution_count": null,
   "metadata": {
    "id": "G-KS0qL5nTsJ"
   },
   "outputs": [],
   "source": [
    "# Importing Data\n",
    "URL = 'https://raw.githubusercontent.com/MohamadNach/Machine-Learning-to-Predict-Energy-Consumption/master/events.csv'\n",
    "df = pd.read_csv(URL)\n"
   ]
  },
  {
   "cell_type": "markdown",
   "metadata": {
    "id": "IpGjC2h4lflA"
   },
   "source": [
    "## Data Exploration"
   ]
  },
  {
   "cell_type": "code",
   "execution_count": null,
   "metadata": {
    "colab": {
     "base_uri": "https://localhost:8080/",
     "height": 241
    },
    "id": "LB29xyaRrx_c",
    "outputId": "9ee9fbb4-81b0-4be9-a73d-1bdd1ac52eb1"
   },
   "outputs": [],
   "source": [
    "print(\"Return first 5 rows.\",\"\\n\")\n",
    "df.head()\n"
   ]
  },
  {
   "cell_type": "code",
   "execution_count": null,
   "metadata": {
    "colab": {
     "base_uri": "https://localhost:8080/",
     "height": 241
    },
    "id": "Sir5PBIRk8Bv",
    "outputId": "5b4ebdbb-3941-4ba5-cb81-1cc8b5a5ddab"
   },
   "outputs": [],
   "source": [
    "print(\"Return last 5 rows.\",\"\\n\")\n",
    "df.tail()\n"
   ]
  },
  {
   "cell_type": "code",
   "execution_count": null,
   "metadata": {
    "colab": {
     "base_uri": "https://localhost:8080/"
    },
    "id": "M8RGe0XaTJ_f",
    "outputId": "7a4a792c-eada-4add-dd91-dd869746668f"
   },
   "outputs": [],
   "source": [
    "df.info()\n"
   ]
  },
  {
   "cell_type": "code",
   "execution_count": null,
   "metadata": {
    "colab": {
     "base_uri": "https://localhost:8080/"
    },
    "id": "UqP-B630vHxD",
    "outputId": "f7170d33-2358-4188-d25e-aa14938ffa10"
   },
   "outputs": [],
   "source": [
    "#print(\"Descriptive statistics include those that summarize the central tendency, dispersion and shape of a dataset’s distribution, excluding NaN values.\", \"\\n\")\n",
    "print(df.describe(), \"\\n\")\n"
   ]
  },
  {
   "cell_type": "markdown",
   "metadata": {
    "id": "4RuAJow6_MUS"
   },
   "source": [
    "## Feature Extraction\n"
   ]
  },
  {
   "cell_type": "code",
   "execution_count": null,
   "metadata": {
    "colab": {
     "base_uri": "https://localhost:8080/"
    },
    "id": "zsLCWf3D37KB",
    "outputId": "84d6a76e-8bb3-47dc-b08d-ede3227dc6f4"
   },
   "outputs": [],
   "source": [
    "del df[\"Start time UTC\"]\n",
    "del df[\"End time UTC\"]\n",
    "del df[\"Start time UTC+03:00\"]\n",
    "df.rename(columns={\"End time UTC+03:00\":\"DateTime\",\"Electricity consumption in Finland\":\"Consumption\"},inplace=True)\n",
    "print(df.head(5))\n"
   ]
  },
  {
   "cell_type": "markdown",
   "metadata": {
    "id": "90a7brHlZnXQ"
   },
   "source": [
    "since we are dealing with time series data we should edite the index from 1 2 3 ... --> DateTime format."
   ]
  },
  {
   "cell_type": "code",
   "execution_count": null,
   "metadata": {
    "colab": {
     "base_uri": "https://localhost:8080/"
    },
    "id": "1ey8_5__3Gxu",
    "outputId": "84204d87-f0ec-4346-ec79-4dc34e2f447f"
   },
   "outputs": [],
   "source": [
    "dataset = df\n",
    "dataset[\"Month\"] = pd.to_datetime(df[\"DateTime\"]).dt.month\n",
    "dataset[\"Year\"] = pd.to_datetime(df[\"DateTime\"]).dt.year\n",
    "dataset[\"Date\"] = pd.to_datetime(df[\"DateTime\"]).dt.date\n",
    "dataset[\"Time\"] = pd.to_datetime(df[\"DateTime\"]).dt.time\n",
    "dataset[\"Week\"] = pd.to_datetime(df[\"DateTime\"]).dt.week\n",
    "dataset[\"Day\"] = pd.to_datetime(df[\"DateTime\"]).dt.day_name()\n",
    "dataset = df.set_index(\"DateTime\")\n",
    "dataset.index = pd.to_datetime(dataset.index)\n"
   ]
  },
  {
   "cell_type": "code",
   "execution_count": null,
   "metadata": {
    "colab": {
     "base_uri": "https://localhost:8080/",
     "height": 237
    },
    "id": "9M57B-qPdEC7",
    "outputId": "0387ea56-78fc-414c-f71c-fea6e91f64c4"
   },
   "outputs": [],
   "source": [
    "dataset.head()\n"
   ]
  },
  {
   "cell_type": "code",
   "execution_count": null,
   "metadata": {
    "colab": {
     "base_uri": "https://localhost:8080/"
    },
    "id": "dk9mkBZ9sVil",
    "outputId": "e6551365-3955-4f3d-f620-672fd328ed7f"
   },
   "outputs": [],
   "source": [
    "print(\"\")\n",
    "print(\"Total Number of Years: \", dataset.Year.nunique() )\n",
    "print(dataset.Year.unique())\n"
   ]
  },
  {
   "cell_type": "code",
   "execution_count": null,
   "metadata": {
    "colab": {
     "base_uri": "https://localhost:8080/",
     "height": 237
    },
    "id": "IOC_9ffh6z0H",
    "outputId": "78f1979a-db73-41b8-abf1-943a2831fdd7"
   },
   "outputs": [],
   "source": [
    "# By assuming week starts on Mondey and ends on Sunday.\n",
    "# The closest start would be on Monday 4-1-2016 \n",
    "# The closest end would be on sunday 26-12-2021\n",
    "# So we should omit first 71 rows and last 121 rows.\n",
    "dataset = dataset[71:-121]\n",
    "dataset.tail()\n"
   ]
  },
  {
   "cell_type": "markdown",
   "metadata": {
    "id": "DxS_4pYP62qH"
   },
   "source": [
    "## Data Visualizations"
   ]
  },
  {
   "cell_type": "code",
   "execution_count": null,
   "metadata": {
    "colab": {
     "base_uri": "https://localhost:8080/",
     "height": 328
    },
    "id": "dW07qaTf66Ox",
    "outputId": "b6c9d02b-55df-41e9-858c-39c0fa6ad463"
   },
   "outputs": [],
   "source": [
    "from matplotlib import style\n",
    "fig = plt.figure()\n",
    "axes1 = plt.subplot2grid((1,1), (0,0))\n",
    "\n",
    "style.use(\"ggplot\")\n",
    "sns.lineplot(x= dataset[\"Year\"], y= dataset[\"Consumption\"], data = dataset)\n",
    "sns.set(rc={'figure.figsize': (20,10)})\n",
    "\n",
    "plt.title(\"Electricity consumption in Finland 2016-2021\")\n",
    "plt.xlabel(\"Date\")\n",
    "plt.ylabel(\"Energy in MW\")\n",
    "plt.grid(True)\n",
    "plt.legend()\n",
    "\n",
    "for label in axes1.xaxis.get_ticklabels():\n",
    "    label.set_rotation(90)\n"
   ]
  },
  {
   "cell_type": "code",
   "execution_count": null,
   "metadata": {
    "colab": {
     "base_uri": "https://localhost:8080/",
     "height": 611
    },
    "id": "Fk9yat4ONF7e",
    "outputId": "9e79f5f4-c7ff-404a-9ccb-029812314bae"
   },
   "outputs": [],
   "source": [
    "plt.figure(figsize=(15,10))\n",
    "plt.plot(dataset[\"Consumption\"])\n"
   ]
  },
  {
   "cell_type": "code",
   "execution_count": null,
   "metadata": {
    "colab": {
     "base_uri": "https://localhost:8080/",
     "height": 1000
    },
    "id": "yPh60L04A8lu",
    "outputId": "16fc3daa-4330-4d0c-cf29-2dfbd5e74863"
   },
   "outputs": [],
   "source": [
    "# Energy Consumption Each Year\n",
    "from matplotlib import style\n",
    "\n",
    "fig = plt.figure(figsize = (30,30))\n",
    "\n",
    "ax1 = fig.add_subplot(611)\n",
    "ax2 = fig.add_subplot(612)\n",
    "ax3 = fig.add_subplot(613)\n",
    "ax4 = fig.add_subplot(614)\n",
    "ax5 = fig.add_subplot(615)\n",
    "ax6 = fig.add_subplot(616)\n",
    "\n",
    "style.use(\"ggplot\")\n",
    "\n",
    "y_2016 = dataset.loc[\"2016\"][\"Consumption\"].to_list()\n",
    "x_2016 = dataset.loc[\"2016\"][\"Date\"].to_list()\n",
    "ax1.plot(x_2016, y_2016, color= \"blue\", linewidth= 1.7)\n",
    "\n",
    "y_2017 = dataset.loc[\"2017\"][\"Consumption\"].to_list()\n",
    "x_2017 = dataset.loc[\"2017\"][\"Date\"].to_list()\n",
    "ax2.plot(x_2017, y_2017, color= \"blue\", linewidth= 1.7)\n",
    "\n",
    "y_2018 = dataset.loc[\"2018\"][\"Consumption\"].to_list()\n",
    "x_2018 = dataset.loc[\"2018\"][\"Date\"].to_list()\n",
    "ax3.plot(x_2018, y_2018, color= \"blue\", linewidth= 1.7)\n",
    "\n",
    "y_2019 = dataset.loc[\"2019\"][\"Consumption\"].to_list()\n",
    "x_2019 = dataset.loc[\"2019\"][\"Date\"].to_list()\n",
    "ax4.plot(x_2019, y_2019, color= \"blue\", linewidth= 1.7)\n",
    "\n",
    "y_2020 = dataset.loc[\"2020\"][\"Consumption\"].to_list()\n",
    "x_2020 = dataset.loc[\"2020\"][\"Date\"].to_list()\n",
    "ax5.plot(x_2020, y_2020, color= \"blue\", linewidth= 1.7)\n",
    "\n",
    "y_2021 = dataset.loc[\"2021\"][\"Consumption\"].to_list()\n",
    "x_2021 = dataset.loc[\"2021\"][\"Date\"].to_list()\n",
    "ax6.plot(x_2021, y_2021, color= \"blue\", linewidth= 1.7)\n",
    "\n",
    "plt.rcParams[\"figure.figsize\"] = (30, 15)\n",
    "plt.subplots_adjust(left=0.1, bottom=0.1, right=0.9, top=2.5, wspace=0.4, hspace=0.4)\n",
    "plt.title(\"Energy Consumption\")\n",
    "plt.xlabel(\"Date\")\n",
    "plt.ylabel(\"Energy in MW\")\n",
    "plt.grid(True, alpha=1)\n",
    "plt.legend()\n"
   ]
  },
  {
   "cell_type": "code",
   "execution_count": null,
   "metadata": {
    "colab": {
     "base_uri": "https://localhost:8080/",
     "height": 700
    },
    "id": "DzPgaMENP2ll",
    "outputId": "8d224a45-0b5f-4ebe-a297-be56c50b4b1b"
   },
   "outputs": [],
   "source": [
    "# Lets us see the Distribution off Energy Consumption so we have a idea about your Dataset a bit more\n",
    "fig = plt.figure(figsize = (15,10))\n",
    "sns.distplot(dataset[\"Consumption\"])\n",
    "plt.title(\"Energy Distribution\")\n"
   ]
  },
  {
   "cell_type": "code",
   "execution_count": null,
   "metadata": {
    "colab": {
     "base_uri": "https://localhost:8080/",
     "height": 645
    },
    "id": "6vSzAat3yolF",
    "outputId": "b8bc1e0a-1635-4edb-fa84-2d32386fc9e7"
   },
   "outputs": [],
   "source": [
    "fig = plt.figure(figsize = (15,10))\n",
    "sns.boxplot(x=dataset[\"Month\"], y=dataset[\"Consumption\"], data= df)\n",
    "plt.title(\"Energy Consumption VS Month\")\n",
    "plt.xlabel(\"Month\")\n",
    "plt.grid(True, alpha=1)\n",
    "plt.legend()\n",
    "\n",
    "for label in ax1.xaxis.get_ticklabels():\n",
    "    label.set_rotation(90)\n"
   ]
  },
  {
   "cell_type": "code",
   "execution_count": null,
   "metadata": {
    "colab": {
     "base_uri": "https://localhost:8080/",
     "height": 645
    },
    "id": "qGtNlqa-zH_l",
    "outputId": "6686a9b6-8b8e-426e-ce01-dc308c8e33aa"
   },
   "outputs": [],
   "source": [
    "dataset1 = dataset\n",
    "fig = plt.figure(figsize = (15,10))\n",
    "sns.boxplot(x=dataset1.index.hour, y=dataset1.Consumption, data= df)\n",
    "plt.title(\"Energy Consumption VS Hour\")\n",
    "plt.xlabel(\"Hour\")\n",
    "plt.grid(True, alpha=1)\n",
    "plt.legend()\n",
    "\n",
    "for label in ax1.xaxis.get_ticklabels():\n",
    "    label.set_rotation(90)\n"
   ]
  },
  {
   "cell_type": "code",
   "execution_count": null,
   "metadata": {
    "colab": {
     "base_uri": "https://localhost:8080/",
     "height": 645
    },
    "id": "Mf_7zYoPcIEn",
    "outputId": "e9d5bbfd-638c-41c2-e1f3-ee48962dabcb"
   },
   "outputs": [],
   "source": [
    "fig = plt.figure(figsize = (15,10))\n",
    "sns.boxplot(x=dataset1.index.year, y=dataset1.Consumption, data= df)\n",
    "plt.title(\"Energy Consumption VS Year\")\n",
    "plt.xlabel(\"Year\")\n",
    "plt.grid(True, alpha=1)\n",
    "plt.legend()\n",
    "\n",
    "for label in ax1.xaxis.get_ticklabels():\n",
    "    label.set_rotation(90)\n"
   ]
  },
  {
   "cell_type": "markdown",
   "metadata": {
    "id": "n10LS9MODCQ9"
   },
   "source": [
    "# LSTM Model"
   ]
  },
  {
   "cell_type": "markdown",
   "metadata": {
    "id": "AOeBqVrK6QcJ"
   },
   "source": [
    "## Train, Validation and Test Dataset"
   ]
  },
  {
   "cell_type": "code",
   "execution_count": null,
   "metadata": {
    "id": "3g3Uk6yOlprh"
   },
   "outputs": [],
   "source": [
    "# Downsampling involves decreasing the time-frequency of the data\n",
    "# Downsapling the time-frequency from hours to days \n",
    "newDataSet = dataset.resample(\"D\").mean()\n"
   ]
  },
  {
   "cell_type": "code",
   "execution_count": null,
   "metadata": {
    "colab": {
     "base_uri": "https://localhost:8080/"
    },
    "id": "rgu2aiwKM9HO",
    "outputId": "c7ee4611-8824-417f-e033-fc446a55642f"
   },
   "outputs": [],
   "source": [
    "# We have 2193 row\n",
    "# 2193 - 3 - 6 = 2184 row after omit first two rows and last six ones.  \n",
    "# 2184 / 7 = 312 week  \n",
    "# 312 * 80 %  250 week for train (1750 day)  \n",
    "# 312 - 250 = 62 week for test (434 day)\n",
    "print(\"Old Dataset: \", dataset.shape)\n",
    "print(\"New Dataset: \", newDataSet.shape)\n"
   ]
  },
  {
   "cell_type": "code",
   "execution_count": null,
   "metadata": {
    "id": "lGse2nsz2N-p"
   },
   "outputs": [],
   "source": [
    "# Saving data in CSV new file\n",
    "# newDataSet.to_csv(\"newDataSet.csv\")\n",
    "# from google.colab import files\n",
    "# files.download(\"newDataSet.csv\")\n"
   ]
  },
  {
   "cell_type": "code",
   "execution_count": null,
   "metadata": {
    "colab": {
     "base_uri": "https://localhost:8080/",
     "height": 237
    },
    "id": "WK7k0ul7y_2-",
    "outputId": "dc672d7d-9fb5-4782-b41b-d31e3eb2f33f"
   },
   "outputs": [],
   "source": [
    "newDataSet.head()\n"
   ]
  },
  {
   "cell_type": "code",
   "execution_count": null,
   "metadata": {
    "colab": {
     "base_uri": "https://localhost:8080/"
    },
    "id": "zMv8rVGjDQTI",
    "outputId": "1f41e576-52d7-4c4d-8af9-a2b123852091"
   },
   "outputs": [],
   "source": [
    "y = newDataSet[\"Consumption\"]\n",
    "print(y[0])\n",
    "y.shape\n"
   ]
  },
  {
   "cell_type": "code",
   "execution_count": null,
   "metadata": {
    "colab": {
     "base_uri": "https://localhost:8080/"
    },
    "id": "Q4yqvFG-4ASt",
    "outputId": "683c327a-eca8-4c9e-8e6a-d37e1f04bd7d"
   },
   "outputs": [],
   "source": [
    "# Normalize data before model fitting\n",
    "# it will boost the performance( in neural networks) + transform\n",
    "from sklearn.preprocessing import MinMaxScaler\n",
    "# scale of the output and input inthe range 0-1 to match the scale of the layer of LSTM\n",
    "scaler = MinMaxScaler(feature_range = (0,1)) \n",
    "# reshape: convert the univariate 1D array into 2D\n",
    "y = scaler.fit_transform(np.array(y).reshape(-1,1))\n",
    "print(\"Normalizing data before model fitting\")\n",
    "print(y[:10])\n"
   ]
  },
  {
   "cell_type": "code",
   "execution_count": null,
   "metadata": {
    "id": "gOiyrHed49TR"
   },
   "outputs": [],
   "source": [
    "training_size = int(len(y)*0.80)\n",
    "test_size = len(y)- training_size\n",
    "val_size = int(training_size*0.20)\n",
    "train_data , test_data , val_data = y[0:training_size-val_size,:] , y[training_size:len(y),:1], y[len(y)-test_size-val_size:len(y)-test_size,:1]\n"
   ]
  },
  {
   "cell_type": "code",
   "execution_count": null,
   "metadata": {
    "id": "NcXzUqr36A2w"
   },
   "outputs": [],
   "source": [
    "# building input variable\n",
    "def create_dataset(dataset, time_step = 1):\n",
    "  dataX, dataY = [] , []\n",
    "  for i in range(len(dataset)-time_step-1):\n",
    "    a = dataset[i:(i+time_step),0]\n",
    "    dataX.append(a)\n",
    "    dataY.append(dataset[i + time_step,0])\n",
    "  return np.array(dataX), np.array(dataY)\n"
   ]
  },
  {
   "cell_type": "code",
   "execution_count": null,
   "metadata": {
    "id": "E-8HuXmo7GKF"
   },
   "outputs": [],
   "source": [
    "time_step = 100 \n",
    "X_train, y_train = create_dataset(train_data, time_step)\n",
    "X_test, ytest = create_dataset(test_data, time_step)\n",
    "X_val, yval = create_dataset(val_data, time_step)\n"
   ]
  },
  {
   "cell_type": "code",
   "execution_count": null,
   "metadata": {
    "colab": {
     "base_uri": "https://localhost:8080/"
    },
    "id": "KsxIHSXQ7t4t",
    "outputId": "a50574ad-c8d1-4e79-e3db-ecab2bf44e35"
   },
   "outputs": [],
   "source": [
    "# reshape train and input-output pairs\n",
    "X_train = X_train.reshape(X_train.shape[0],X_train.shape[1], 1)\n",
    "X_test = X_test.reshape(X_test.shape[0], X_test.shape[1],1)\n",
    "X_val = X_val.reshape(X_val.shape[0], X_val.shape[1],1)\n",
    "\n",
    "print(\"X_train shape: \", X_train.shape)\n",
    "print(\"X_test shape: \",X_test.shape)\n",
    "print(\"X_val shape: \",X_val.shape)\n"
   ]
  },
  {
   "cell_type": "markdown",
   "metadata": {
    "id": "Fc1HPV548RuE"
   },
   "source": [
    "## Model Structure\n"
   ]
  },
  {
   "cell_type": "code",
   "execution_count": null,
   "metadata": {
    "id": "x2UJPSgA8QMa"
   },
   "outputs": [],
   "source": [
    "from keras.models import Sequential\n",
    "from keras.layers import Dense\n",
    "from keras.layers import LSTM\n",
    "from keras.layers import Dropout\n",
    "\n",
    "model = Sequential()\n",
    "\n",
    "# Adding the first LSTM layer and some Dropout regularisation\n",
    "model.add(LSTM(units = 50, return_sequences = True, input_shape = (time_step, 1)))\n",
    "model.add(Dropout(0.2))\n",
    "\n",
    "# Adding a second LSTM layer and some Dropout regularisation\n",
    "model.add(LSTM(units = 50, return_sequences = True))\n",
    "# model.add(Dropout(0.2))\n",
    "\n",
    "# # Adding a third LSTM layer and some Dropout regularisation\n",
    "model.add(LSTM(units = 50, return_sequences = True))\n",
    "# model.add(Dropout(0.2))\n",
    "\n",
    "# Adding a fourth LSTM layer and some Dropout regularisation\n",
    "model.add(LSTM(units = 50))\n",
    "# model.add(Dropout(0.2))\n",
    "\n",
    "# Adding the output layer\n",
    "model.add(Dense(units = 1))\n",
    "\n",
    "# Compiling the RNN\n",
    "model.compile(optimizer = 'adam', loss = 'mean_squared_error')\n"
   ]
  },
  {
   "cell_type": "code",
   "execution_count": null,
   "metadata": {
    "colab": {
     "base_uri": "https://localhost:8080/"
    },
    "id": "UoI53J_M9kcX",
    "outputId": "bad4670e-7a02-47eb-d031-eb6b856d692d"
   },
   "outputs": [],
   "source": [
    "model.summary()\n"
   ]
  },
  {
   "cell_type": "markdown",
   "metadata": {
    "id": "xFOQGfMoX7WA"
   },
   "source": [
    "## Model Training"
   ]
  },
  {
   "cell_type": "code",
   "execution_count": null,
   "metadata": {
    "colab": {
     "base_uri": "https://localhost:8080/"
    },
    "id": "TZViBSnN_fbm",
    "outputId": "15bd8255-373e-4c3d-ba12-4bbf522f2b19"
   },
   "outputs": [],
   "source": [
    "history = model.fit(X_train, y_train, validation_data = (X_val,yval), verbose = 1,epochs = 60 ,batch_size = 20)\n"
   ]
  },
  {
   "cell_type": "code",
   "execution_count": null,
   "metadata": {
    "id": "u6MT4VwzbwRt"
   },
   "outputs": [],
   "source": [
    "# # How to save your model in Google Drive\n",
    "# import torch\n",
    "# from google.colab import drive\n",
    "# drive.mount('/content/gdrive')\n"
   ]
  },
  {
   "cell_type": "code",
   "execution_count": null,
   "metadata": {
    "id": "g71seqfKcPQt"
   },
   "outputs": [],
   "source": [
    "# model_save_name = 'LSTM-Model2022.h5'\n",
    "# path = F\"/content/gdrive/My Drive/{model_save_name}\" \n",
    "# torch.save(model, path)\n"
   ]
  },
  {
   "cell_type": "markdown",
   "metadata": {
    "id": "lzG85BaXXm7k"
   },
   "source": [
    "## Model Evaluating"
   ]
  },
  {
   "cell_type": "code",
   "execution_count": null,
   "metadata": {
    "colab": {
     "base_uri": "https://localhost:8080/",
     "height": 628
    },
    "id": "N8U_b8E4IT9_",
    "outputId": "ce81275d-b6fb-4d9f-d228-42105d998056"
   },
   "outputs": [],
   "source": [
    "plt.figure(figsize=(10,10))\n",
    "plt.plot(history.history['loss']) # tb\n",
    "plt.plot(history.history['val_loss'])\n",
    "plt.title('model loss')\n",
    "plt.ylabel('loss')\n",
    "plt.xlabel('epoch')\n",
    "plt.legend(['train', 'validation'], loc='upper left')\n",
    "plt.show()\n"
   ]
  },
  {
   "cell_type": "code",
   "execution_count": null,
   "metadata": {
    "colab": {
     "base_uri": "https://localhost:8080/",
     "height": 35
    },
    "id": "1dQCoFZMJK-J",
    "outputId": "6385e099-f671-4982-ab29-64f93a8f1f09"
   },
   "outputs": [],
   "source": [
    "import tensorflow as tf\n",
    "tf.__version__\n"
   ]
  },
  {
   "cell_type": "code",
   "execution_count": null,
   "metadata": {
    "colab": {
     "base_uri": "https://localhost:8080/"
    },
    "id": "31XitZUlJTwH",
    "outputId": "14cbfdee-ed26-4823-db6b-41dcfa6781a8"
   },
   "outputs": [],
   "source": [
    "### Lets Do the prediction and check performance metrics\n",
    "train_predict=model.predict(X_train)\n",
    "test_predict=model.predict(X_test)\n",
    "val_predict=model.predict(X_val)\n"
   ]
  },
  {
   "cell_type": "code",
   "execution_count": null,
   "metadata": {
    "id": "ntXlGBYBGwdx"
   },
   "outputs": [],
   "source": [
    "##Transformback to original form\n",
    "train_predict=scaler.inverse_transform(train_predict)\n",
    "test_predict=scaler.inverse_transform(test_predict)\n",
    "val_predict=scaler.inverse_transform(val_predict)\n"
   ]
  },
  {
   "cell_type": "code",
   "execution_count": null,
   "metadata": {
    "colab": {
     "base_uri": "https://localhost:8080/"
    },
    "id": "epKpNg3kJj0R",
    "outputId": "4340aeb0-817e-4e68-f895-1e87ed088554"
   },
   "outputs": [],
   "source": [
    "import math\n",
    "from sklearn.metrics import mean_squared_error\n",
    "math.sqrt(mean_squared_error(y_train,train_predict))\n"
   ]
  },
  {
   "cell_type": "code",
   "execution_count": null,
   "metadata": {
    "colab": {
     "base_uri": "https://localhost:8080/"
    },
    "id": "3MMrJfl57WC4",
    "outputId": "4352fb29-76fc-4cd5-e2f0-4f364c7bdf35"
   },
   "outputs": [],
   "source": [
    "print(train_predict.shape)\n",
    "print(test_predict.shape)\n",
    "print(val_predict.shape)\n",
    "print(train_predict[0])\n",
    "print(y_train.shape)\n"
   ]
  },
  {
   "cell_type": "markdown",
   "metadata": {
    "id": "qw-_0MDPpCDR"
   },
   "source": [
    "# Conclusion"
   ]
  },
  {
   "cell_type": "code",
   "execution_count": null,
   "metadata": {
    "colab": {
     "base_uri": "https://localhost:8080/",
     "height": 441
    },
    "id": "6PeYatJAIDfR",
    "outputId": "4ab6bb60-1d09-460f-c445-df9ea753b3ae"
   },
   "outputs": [],
   "source": [
    "# Predicting consumption using training data\n",
    "train_predictions = model.predict(X_train)\n",
    "train_predictions =scaler.inverse_transform(train_predictions)\n",
    "\n",
    "y_train = y_train.reshape(y_train.shape[0], 1)\n",
    "actual = scaler.inverse_transform(y_train)\n",
    "train_results = pd.DataFrame()\n",
    "\n",
    "train_results[\"Train Predictions\"] = train_predictions.tolist()\n",
    "train_results[\"Actuals\"] = actual.tolist()\n",
    "\n",
    "train_results\n"
   ]
  },
  {
   "cell_type": "code",
   "execution_count": null,
   "metadata": {
    "colab": {
     "base_uri": "https://localhost:8080/",
     "height": 611
    },
    "id": "7SsTnJ6BpAkR",
    "outputId": "dabce067-64af-451e-a7d7-8edd6e39d323"
   },
   "outputs": [],
   "source": [
    "plt.figure(figsize=(20,10))\n",
    "\n",
    "# Actual Consumption\n",
    "ActualPlot = np.empty_like(y )\n",
    "ActualPlot[:, :] = np.nan\n",
    "ActualPlot[887:, :] = actual.tolist()\n",
    "plt.plot(ActualPlot)\n",
    "\n",
    "TrainPredictionsPlot = np.empty_like(y )\n",
    "TrainPredictionsPlot[:, :] = np.nan\n",
    "TrainPredictionsPlot[887:, :] = train_predictions.tolist()\n",
    "plt.plot(TrainPredictionsPlot)\n",
    "\n",
    "plt.legend(['actual','train_predictions'])\n",
    "plt.xlabel('Time Steps')\n",
    "plt.ylabel('Consumption MWh')\n",
    "plt.show()\n"
   ]
  },
  {
   "cell_type": "code",
   "execution_count": null,
   "metadata": {
    "colab": {
     "base_uri": "https://localhost:8080/",
     "height": 441
    },
    "id": "8cyKlIIbIx8u",
    "outputId": "ea7b2212-ebb6-4231-ecdf-8f8fdb92d02a"
   },
   "outputs": [],
   "source": [
    "# Predicting consumption using validation data\n",
    "val_predictions = model.predict(X_val)\n",
    "val_predictions =scaler.inverse_transform(val_predictions)\n",
    "\n",
    "yval = yval.reshape(yval.shape[0], 1)\n",
    "actual_val = scaler.inverse_transform(yval)\n",
    "\n",
    "val_results = pd.DataFrame()\n",
    "val_results[\"Val Predictions\"] = val_predictions.tolist()\n",
    "val_results[\"Actuals_val\"] = actual_val.tolist()\n",
    "\n",
    "val_results\n"
   ]
  },
  {
   "cell_type": "code",
   "execution_count": null,
   "metadata": {
    "colab": {
     "base_uri": "https://localhost:8080/",
     "height": 628
    },
    "id": "J9yde-BKJ_VB",
    "outputId": "b6dba4c7-1a38-413c-a220-64f8fdefabd9"
   },
   "outputs": [],
   "source": [
    "plt.figure(figsize=(20,10))\n",
    "\n",
    "# Actual Consumption\n",
    "ActualPlot = np.empty_like(y)\n",
    "ActualPlot[:, :] = np.nan\n",
    "ActualPlot[1936:, :] = actual_val.tolist()\n",
    "plt.plot(ActualPlot)\n",
    "\n",
    "# Validation Prediction\n",
    "ValPredictionsPlot = np.empty_like(y)\n",
    "ValPredictionsPlot[:, :] = np.nan\n",
    "ValPredictionsPlot[1936:, :] = val_predictions.tolist()\n",
    "plt.plot(ValPredictionsPlot)\n",
    "\n",
    "plt.legend(['actual_val','Val_predictions'])\n",
    "plt.xlabel('Time Steps')\n",
    "plt.ylabel('Consumption MWh')\n"
   ]
  },
  {
   "cell_type": "code",
   "execution_count": null,
   "metadata": {
    "colab": {
     "base_uri": "https://localhost:8080/",
     "height": 441
    },
    "id": "0Ssk9YroNL3P",
    "outputId": "f37ba76a-9c76-4c68-b582-475697dc20af"
   },
   "outputs": [],
   "source": [
    "# Predicting consumption using test data\n",
    "test_predictions = model.predict(X_test)\n",
    "test_predictions =scaler.inverse_transform(test_predictions)\n",
    "\n",
    "ytest = ytest.reshape(ytest.shape[0], 1)\n",
    "actual_test = scaler.inverse_transform(ytest)\n",
    "\n",
    "test_results = pd.DataFrame()\n",
    "test_results[\"test Predictions\"] = test_predictions.tolist()\n",
    "test_results[\"Actuals_test\"] = actual_test.tolist()\n",
    "\n",
    "test_results\n"
   ]
  },
  {
   "cell_type": "code",
   "execution_count": null,
   "metadata": {
    "colab": {
     "base_uri": "https://localhost:8080/",
     "height": 628
    },
    "id": "LhpGjtECNMPy",
    "outputId": "7c260345-ae49-45e6-e9d1-21074bc9ae96"
   },
   "outputs": [],
   "source": [
    "plt.figure(figsize=(20,10))\n",
    "\n",
    "# Actual Consumption\n",
    "ActualPlot = np.empty_like(y)\n",
    "ActualPlot[:, :] = np.nan\n",
    "ActualPlot[1848:, :] = actual_test.tolist()\n",
    "plt.plot(ActualPlot)\n",
    "\n",
    "# Test Prediction\n",
    "TestPredictionsPlot = np.empty_like(y)\n",
    "TestPredictionsPlot[:, :] = np.nan\n",
    "TestPredictionsPlot[1848:, :] = test_predictions.tolist()\n",
    "plt.plot(TestPredictionsPlot)\n",
    "\n",
    "plt.legend(['Actual_test','Test_predictions'])\n",
    "plt.xlabel('Time Steps')\n",
    "plt.ylabel('Consumption MWh')\n"
   ]
  },
  {
   "cell_type": "code",
   "execution_count": null,
   "metadata": {
    "colab": {
     "base_uri": "https://localhost:8080/",
     "height": 611
    },
    "id": "aO_1aXd-Jvf0",
    "outputId": "76a0c212-016a-4be2-8437-4992a4e13e35"
   },
   "outputs": [],
   "source": [
    "### Plotting \n",
    "# shift train predictions for plotting\n",
    "look_back=100 #*****************************************>>>>>100\n",
    "fig, ax = plt.subplots(figsize=(20,10))\n",
    "trainPredictPlot = np.empty_like(y)\n",
    "trainPredictPlot[:, :] = np.nan\n",
    "trainPredictPlot[look_back:len(train_predict)+look_back, :] = train_predict\n",
    "# shift test predictions for plotting\n",
    "testPredictPlot = np.empty_like(y)\n",
    "testPredictPlot[:, :] = np.nan\n",
    "testPredictPlot[len(train_predict)+(look_back*2)+1+349:len(y)-1, :] = test_predict\n",
    "# plot baseline and predictions\n",
    "plt.plot(scaler.inverse_transform(y))\n",
    "plt.plot(trainPredictPlot)\n",
    "plt.plot(testPredictPlot)\n",
    "plt.legend(['inverse_transform(y)','trainPredictPlot','testPredictPlot'])\n",
    "plt.xlabel('Time Steps')\n",
    "plt.ylabel('Consumption MWh')\n",
    "plt.show()\n"
   ]
  },
  {
   "cell_type": "markdown",
   "metadata": {
    "id": "HEM59xQALER-"
   },
   "source": [
    "# Future forecasting"
   ]
  },
  {
   "cell_type": "code",
   "execution_count": null,
   "metadata": {
    "colab": {
     "base_uri": "https://localhost:8080/"
    },
    "id": "8eI1m13lLII0",
    "outputId": "ea6eeb26-5888-4353-c4b1-0366a286de0e"
   },
   "outputs": [],
   "source": [
    "print(len(test_data))\n",
    "print(test_data[0])\n",
    "print(len(train_data))\n",
    "x_input=test_data[337:].reshape(1,-1)\n",
    "print(x_input.shape)\n",
    "# print(x_input[0])\n",
    "temp_input=list(x_input)\n",
    "temp_input=temp_input[0].tolist()\n",
    "# print(temp_input)\n"
   ]
  },
  {
   "cell_type": "code",
   "execution_count": null,
   "metadata": {
    "colab": {
     "base_uri": "https://localhost:8080/"
    },
    "id": "q9zl92BTLUr8",
    "outputId": "f9fd6d10-ff2d-466b-9c8f-232f6d64ae1b"
   },
   "outputs": [],
   "source": [
    "\n",
    "# demonstrate prediction for next 30 days\n",
    "from numpy import array\n",
    "\n",
    "lst_output=[]\n",
    "n_steps=100\n",
    "i=0\n",
    "test = \"\"\n",
    "while(i<30):\n",
    "    \n",
    "    if(len(temp_input)>100):\n",
    "        test = \"if\"\n",
    "        #print(temp_input)\n",
    "        x_input=np.array(temp_input[1:])\n",
    "        print(\"{} day input {}\".format(i,x_input))\n",
    "        x_input=x_input.reshape(1,-1)\n",
    "        x_input = x_input.reshape((1, n_steps, 1))\n",
    "        #print(x_input)\n",
    "        yhat = model.predict(x_input, verbose=0)\n",
    "        print(\"{} day output {}\".format(i,yhat))\n",
    "        temp_input.extend(yhat[0].tolist())\n",
    "        temp_input=temp_input[1:]\n",
    "        #print(temp_input)\n",
    "        lst_output.extend(yhat.tolist())\n",
    "        i=i+1\n",
    "    else:\n",
    "        test=\"else\"\n",
    "        x_input = x_input.reshape((1, n_steps,1))\n",
    "        yhat = model.predict(x_input, verbose=0)\n",
    "        #print(yhat[0])\n",
    "        temp_input.extend(yhat[0].tolist())\n",
    "        #print(len(temp_input))\n",
    "        lst_output.extend(yhat.tolist())\n",
    "        i=i+1\n",
    "\n",
    "    \n",
    "print(test)\n",
    "print(len(lst_output))\n"
   ]
  },
  {
   "cell_type": "code",
   "execution_count": null,
   "metadata": {
    "colab": {
     "base_uri": "https://localhost:8080/",
     "height": 1000
    },
    "id": "BJJ47RF5M9De",
    "outputId": "de01927e-956d-4670-8931-78ea2e51a8d3"
   },
   "outputs": [],
   "source": [
    "print(len(y))\n",
    "day_new=np.arange(1,101)\n",
    "day_pred=np.arange(101, 131 )\n",
    "plt.figure(figsize = (15,10))\n",
    "plt.plot(day_new,scaler.inverse_transform(y[2084:]))\n",
    "plt.plot(day_pred,scaler.inverse_transform(lst_output))\n",
    "print(scaler.inverse_transform(lst_output))\n"
   ]
  },
  {
   "cell_type": "code",
   "execution_count": null,
   "metadata": {
    "colab": {
     "base_uri": "https://localhost:8080/",
     "height": 611
    },
    "id": "w8LvMnS0NY3a",
    "outputId": "888db9d3-c9b0-4b8a-b673-ef2a97fc7599"
   },
   "outputs": [],
   "source": [
    "df3=y.tolist()\n",
    "df3.extend(lst_output)\n",
    "plt.figure(figsize=(15,10))\n",
    "plt.plot(df3[2000:])\n",
    "\n"
   ]
  }
 ],
 "metadata": {
  "colab": {
   "provenance": [],
   "toc_visible": true
  },
  "kernelspec": {
   "display_name": "Python 3",
   "name": "python3"
  },
  "language_info": {
   "codemirror_mode": {
    "name": "ipython",
    "version": 3
   },
   "file_extension": ".py",
   "mimetype": "text/x-python",
   "name": "python",
   "nbconvert_exporter": "python",
   "pygments_lexer": "ipython3",
   "version": "3.12.3"
  }
 },
 "nbformat": 4,
 "nbformat_minor": 0
}
