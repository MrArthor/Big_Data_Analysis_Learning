{
 "cells": [
  {
   "cell_type": "code",
   "execution_count": 1,
   "id": "d3846053-8984-4819-9395-c221e9b9ef1d",
   "metadata": {},
   "outputs": [
    {
     "ename": "NameError",
     "evalue": "name 'pd' is not defined",
     "output_type": "error",
     "traceback": [
      "\u001b[0;31m---------------------------------------------------------------------------\u001b[0m",
      "\u001b[0;31mNameError\u001b[0m                                 Traceback (most recent call last)",
      "Cell \u001b[0;32mIn[1], line 8\u001b[0m\n\u001b[1;32m      4\u001b[0m \u001b[38;5;28;01mfrom\u001b[39;00m \u001b[38;5;21;01msklearn\u001b[39;00m\u001b[38;5;21;01m.\u001b[39;00m\u001b[38;5;21;01mdatasets\u001b[39;00m \u001b[38;5;28;01mimport\u001b[39;00m load_iris\n\u001b[1;32m      7\u001b[0m data \u001b[38;5;241m=\u001b[39m load_iris()\n\u001b[0;32m----> 8\u001b[0m iris_df \u001b[38;5;241m=\u001b[39m pd\u001b[38;5;241m.\u001b[39mDataFrame(data\u001b[38;5;241m.\u001b[39mdata, columns\u001b[38;5;241m=\u001b[39mdata\u001b[38;5;241m.\u001b[39mfeature_names)\n\u001b[1;32m      9\u001b[0m \u001b[38;5;66;03m# Generate a Gaussian-distributed dataset\u001b[39;00m\n\u001b[1;32m     10\u001b[0m iris_df\u001b[38;5;241m.\u001b[39minfo()\n",
      "\u001b[0;31mNameError\u001b[0m: name 'pd' is not defined"
     ]
    }
   ],
   "source": [
    "import numpy as np\n",
    "import matplotlib.pyplot as plt\n",
    "import seaborn as sns\n",
    "from sklearn.datasets import load_iris\n",
    "\n",
    "\n",
    "data = load_iris()\n",
    "iris_df = pd.DataFrame(data.data, columns=data.feature_names)\n",
    "# Generate a Gaussian-distributed dataset\n",
    "iris_df.info()\n",
    "\n",
    "\n",
    "# Visualize the Gaussian distribution\n",
    "plt.figure(figsize=(10, 6))\n",
    "data = iris_df['sepal width (cm)']\n",
    "sns.histplot(data, kde=True, color=\"blue\", bins=30)\n",
    "\n",
    "plt.title(\"Gaussian (Normal) Distribution\")\n",
    "plt.xlabel(\"Data values\")\n",
    "plt.ylabel(\"Frequency\")\n",
    "plt.show()\n",
    "\n",
    "\n",
    "\n",
    "log_data = np.log(data - min(data)+ 1)\n",
    "\n",
    "# Visualize the log-transformed data\n",
    "plt.figure(figsize=(10, 6))\n",
    "sns.histplot(log_data, kde=True, color=\"green\", bins=30)\n",
    "plt.title(\"Log-Transformed Data\")\n",
    "plt.xlabel(\"Log-transformed values\")\n",
    "plt.ylabel(\"Frequency\")\n",
    "plt.show()\n",
    "\n",
    "\n",
    "\n",
    "## Applying Central Limit Theorem (CLT)\n",
    "\n",
    "# Applying Central Limit Theorem\n",
    "sample_means = [np.mean(np.random.choice(log_data, size=30)) for _ in range(1000)]\n",
    "\n",
    "# Visualize the distribution of sample means\n",
    "plt.figure(figsize=(10, 6))\n",
    "sns.histplot(sample_means, kde=True, color=\"purple\", bins=30)\n",
    "plt.title(\"Distribution of Sample Means (Central Limit Theorem)\")\n",
    "plt.xlabel(\"Sample means\")\n",
    "plt.ylabel(\"Frequency\")\n",
    "plt.show()"
   ]
  }
 ],
 "metadata": {
  "kernelspec": {
   "display_name": "Python 3 (ipykernel)",
   "language": "python",
   "name": "python3"
  },
  "language_info": {
   "codemirror_mode": {
    "name": "ipython",
    "version": 3
   },
   "file_extension": ".py",
   "mimetype": "text/x-python",
   "name": "python",
   "nbconvert_exporter": "python",
   "pygments_lexer": "ipython3",
   "version": "3.12.5"
  }
 },
 "nbformat": 4,
 "nbformat_minor": 5
}
