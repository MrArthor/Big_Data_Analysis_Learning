{
 "cells": [
  {
   "cell_type": "code",
   "execution_count": 2,
   "id": "d37c98a7-e67a-46b5-8c2f-9fde0d732f2e",
   "metadata": {},
   "outputs": [],
   "source": [
    "import pandas as pd"
   ]
  },
  {
   "cell_type": "code",
   "execution_count": null,
   "id": "c877e570-3e70-4f53-b002-8e110271b9c3",
   "metadata": {},
   "outputs": [],
   "source": []
  },
  {
   "cell_type": "code",
   "execution_count": 3,
   "id": "44c22408-3dbc-4e24-bcc0-9c54820583e6",
   "metadata": {},
   "outputs": [],
   "source": [
    "df = pd.read_csv(\"Iris.csv\")\n",
    "\n"
   ]
  },
  {
   "cell_type": "code",
   "execution_count": null,
   "id": "c7512205-6fb5-4615-ac1a-b0f266e09160",
   "metadata": {},
   "outputs": [],
   "source": []
  },
  {
   "cell_type": "code",
   "execution_count": 4,
   "id": "771e3b01-7e1a-4fb2-a767-05a3d875ef90",
   "metadata": {},
   "outputs": [
    {
     "data": {
      "text/plain": [
       "'      Id  SepalLengthCm  SepalWidthCm  PetalLengthCm  PetalWidthCm          Species\\n0      1            5.1           3.5            1.4           0.2      Iris-setosa\\n1      2            4.9           3.0            1.4           0.2      Iris-setosa\\n2      3            4.7           3.2            1.3           0.2      Iris-setosa\\n3      4            4.6           3.1            1.5           0.2      Iris-setosa\\n4      5            5.0           3.6            1.4           0.2      Iris-setosa\\n5      6            5.4           3.9            1.7           0.4      Iris-setosa\\n6      7            4.6           3.4            1.4           0.3      Iris-setosa\\n7      8            5.0           3.4            1.5           0.2      Iris-setosa\\n8      9            4.4           2.9            1.4           0.2      Iris-setosa\\n9     10            4.9           3.1            1.5           0.1      Iris-setosa\\n10    11            5.4           3.7            1.5           0.2      Iris-setosa\\n11    12            4.8           3.4            1.6           0.2      Iris-setosa\\n12    13            4.8           3.0            1.4           0.1      Iris-setosa\\n13    14            4.3           3.0            1.1           0.1      Iris-setosa\\n14    15            5.8           4.0            1.2           0.2      Iris-setosa\\n15    16            5.7           4.4            1.5           0.4      Iris-setosa\\n16    17            5.4           3.9            1.3           0.4      Iris-setosa\\n17    18            5.1           3.5            1.4           0.3      Iris-setosa\\n18    19            5.7           3.8            1.7           0.3      Iris-setosa\\n19    20            5.1           3.8            1.5           0.3      Iris-setosa\\n20    21            5.4           3.4            1.7           0.2      Iris-setosa\\n21    22            5.1           3.7            1.5           0.4      Iris-setosa\\n22    23            4.6           3.6            1.0           0.2      Iris-setosa\\n23    24            5.1           3.3            1.7           0.5      Iris-setosa\\n24    25            4.8           3.4            1.9           0.2      Iris-setosa\\n25    26            5.0           3.0            1.6           0.2      Iris-setosa\\n26    27            5.0           3.4            1.6           0.4      Iris-setosa\\n27    28            5.2           3.5            1.5           0.2      Iris-setosa\\n28    29            5.2           3.4            1.4           0.2      Iris-setosa\\n29    30            4.7           3.2            1.6           0.2      Iris-setosa\\n30    31            4.8           3.1            1.6           0.2      Iris-setosa\\n31    32            5.4           3.4            1.5           0.4      Iris-setosa\\n32    33            5.2           4.1            1.5           0.1      Iris-setosa\\n33    34            5.5           4.2            1.4           0.2      Iris-setosa\\n34    35            4.9           3.1            1.5           0.1      Iris-setosa\\n35    36            5.0           3.2            1.2           0.2      Iris-setosa\\n36    37            5.5           3.5            1.3           0.2      Iris-setosa\\n37    38            4.9           3.1            1.5           0.1      Iris-setosa\\n38    39            4.4           3.0            1.3           0.2      Iris-setosa\\n39    40            5.1           3.4            1.5           0.2      Iris-setosa\\n40    41            5.0           3.5            1.3           0.3      Iris-setosa\\n41    42            4.5           2.3            1.3           0.3      Iris-setosa\\n42    43            4.4           3.2            1.3           0.2      Iris-setosa\\n43    44            5.0           3.5            1.6           0.6      Iris-setosa\\n44    45            5.1           3.8            1.9           0.4      Iris-setosa\\n45    46            4.8           3.0            1.4           0.3      Iris-setosa\\n46    47            5.1           3.8            1.6           0.2      Iris-setosa\\n47    48            4.6           3.2            1.4           0.2      Iris-setosa\\n48    49            5.3           3.7            1.5           0.2      Iris-setosa\\n49    50            5.0           3.3            1.4           0.2      Iris-setosa\\n50    51            7.0           3.2            4.7           1.4  Iris-versicolor\\n51    52            6.4           3.2            4.5           1.5  Iris-versicolor\\n52    53            6.9           3.1            4.9           1.5  Iris-versicolor\\n53    54            5.5           2.3            4.0           1.3  Iris-versicolor\\n54    55            6.5           2.8            4.6           1.5  Iris-versicolor\\n55    56            5.7           2.8            4.5           1.3  Iris-versicolor\\n56    57            6.3           3.3            4.7           1.6  Iris-versicolor\\n57    58            4.9           2.4            3.3           1.0  Iris-versicolor\\n58    59            6.6           2.9            4.6           1.3  Iris-versicolor\\n59    60            5.2           2.7            3.9           1.4  Iris-versicolor\\n60    61            5.0           2.0            3.5           1.0  Iris-versicolor\\n61    62            5.9           3.0            4.2           1.5  Iris-versicolor\\n62    63            6.0           2.2            4.0           1.0  Iris-versicolor\\n63    64            6.1           2.9            4.7           1.4  Iris-versicolor\\n64    65            5.6           2.9            3.6           1.3  Iris-versicolor\\n65    66            6.7           3.1            4.4           1.4  Iris-versicolor\\n66    67            5.6           3.0            4.5           1.5  Iris-versicolor\\n67    68            5.8           2.7            4.1           1.0  Iris-versicolor\\n68    69            6.2           2.2            4.5           1.5  Iris-versicolor\\n69    70            5.6           2.5            3.9           1.1  Iris-versicolor\\n70    71            5.9           3.2            4.8           1.8  Iris-versicolor\\n71    72            6.1           2.8            4.0           1.3  Iris-versicolor\\n72    73            6.3           2.5            4.9           1.5  Iris-versicolor\\n73    74            6.1           2.8            4.7           1.2  Iris-versicolor\\n74    75            6.4           2.9            4.3           1.3  Iris-versicolor\\n75    76            6.6           3.0            4.4           1.4  Iris-versicolor\\n76    77            6.8           2.8            4.8           1.4  Iris-versicolor\\n77    78            6.7           3.0            5.0           1.7  Iris-versicolor\\n78    79            6.0           2.9            4.5           1.5  Iris-versicolor\\n79    80            5.7           2.6            3.5           1.0  Iris-versicolor\\n80    81            5.5           2.4            3.8           1.1  Iris-versicolor\\n81    82            5.5           2.4            3.7           1.0  Iris-versicolor\\n82    83            5.8           2.7            3.9           1.2  Iris-versicolor\\n83    84            6.0           2.7            5.1           1.6  Iris-versicolor\\n84    85            5.4           3.0            4.5           1.5  Iris-versicolor\\n85    86            6.0           3.4            4.5           1.6  Iris-versicolor\\n86    87            6.7           3.1            4.7           1.5  Iris-versicolor\\n87    88            6.3           2.3            4.4           1.3  Iris-versicolor\\n88    89            5.6           3.0            4.1           1.3  Iris-versicolor\\n89    90            5.5           2.5            4.0           1.3  Iris-versicolor\\n90    91            5.5           2.6            4.4           1.2  Iris-versicolor\\n91    92            6.1           3.0            4.6           1.4  Iris-versicolor\\n92    93            5.8           2.6            4.0           1.2  Iris-versicolor\\n93    94            5.0           2.3            3.3           1.0  Iris-versicolor\\n94    95            5.6           2.7            4.2           1.3  Iris-versicolor\\n95    96            5.7           3.0            4.2           1.2  Iris-versicolor\\n96    97            5.7           2.9            4.2           1.3  Iris-versicolor\\n97    98            6.2           2.9            4.3           1.3  Iris-versicolor\\n98    99            5.1           2.5            3.0           1.1  Iris-versicolor\\n99   100            5.7           2.8            4.1           1.3  Iris-versicolor\\n100  101            6.3           3.3            6.0           2.5   Iris-virginica\\n101  102            5.8           2.7            5.1           1.9   Iris-virginica\\n102  103            7.1           3.0            5.9           2.1   Iris-virginica\\n103  104            6.3           2.9            5.6           1.8   Iris-virginica\\n104  105            6.5           3.0            5.8           2.2   Iris-virginica\\n105  106            7.6           3.0            6.6           2.1   Iris-virginica\\n106  107            4.9           2.5            4.5           1.7   Iris-virginica\\n107  108            7.3           2.9            6.3           1.8   Iris-virginica\\n108  109            6.7           2.5            5.8           1.8   Iris-virginica\\n109  110            7.2           3.6            6.1           2.5   Iris-virginica\\n110  111            6.5           3.2            5.1           2.0   Iris-virginica\\n111  112            6.4           2.7            5.3           1.9   Iris-virginica\\n112  113            6.8           3.0            5.5           2.1   Iris-virginica\\n113  114            5.7           2.5            5.0           2.0   Iris-virginica\\n114  115            5.8           2.8            5.1           2.4   Iris-virginica\\n115  116            6.4           3.2            5.3           2.3   Iris-virginica\\n116  117            6.5           3.0            5.5           1.8   Iris-virginica\\n117  118            7.7           3.8            6.7           2.2   Iris-virginica\\n118  119            7.7           2.6            6.9           2.3   Iris-virginica\\n119  120            6.0           2.2            5.0           1.5   Iris-virginica\\n120  121            6.9           3.2            5.7           2.3   Iris-virginica\\n121  122            5.6           2.8            4.9           2.0   Iris-virginica\\n122  123            7.7           2.8            6.7           2.0   Iris-virginica\\n123  124            6.3           2.7            4.9           1.8   Iris-virginica\\n124  125            6.7           3.3            5.7           2.1   Iris-virginica\\n125  126            7.2           3.2            6.0           1.8   Iris-virginica\\n126  127            6.2           2.8            4.8           1.8   Iris-virginica\\n127  128            6.1           3.0            4.9           1.8   Iris-virginica\\n128  129            6.4           2.8            5.6           2.1   Iris-virginica\\n129  130            7.2           3.0            5.8           1.6   Iris-virginica\\n130  131            7.4           2.8            6.1           1.9   Iris-virginica\\n131  132            7.9           3.8            6.4           2.0   Iris-virginica\\n132  133            6.4           2.8            5.6           2.2   Iris-virginica\\n133  134            6.3           2.8            5.1           1.5   Iris-virginica\\n134  135            6.1           2.6            5.6           1.4   Iris-virginica\\n135  136            7.7           3.0            6.1           2.3   Iris-virginica\\n136  137            6.3           3.4            5.6           2.4   Iris-virginica\\n137  138            6.4           3.1            5.5           1.8   Iris-virginica\\n138  139            6.0           3.0            4.8           1.8   Iris-virginica\\n139  140            6.9           3.1            5.4           2.1   Iris-virginica\\n140  141            6.7           3.1            5.6           2.4   Iris-virginica\\n141  142            6.9           3.1            5.1           2.3   Iris-virginica\\n142  143            5.8           2.7            5.1           1.9   Iris-virginica\\n143  144            6.8           3.2            5.9           2.3   Iris-virginica\\n144  145            6.7           3.3            5.7           2.5   Iris-virginica\\n145  146            6.7           3.0            5.2           2.3   Iris-virginica\\n146  147            6.3           2.5            5.0           1.9   Iris-virginica\\n147  148            6.5           3.0            5.2           2.0   Iris-virginica\\n148  149            6.2           3.4            5.4           2.3   Iris-virginica\\n149  150            5.9           3.0            5.1           1.8   Iris-virginica'"
      ]
     },
     "execution_count": 4,
     "metadata": {},
     "output_type": "execute_result"
    }
   ],
   "source": [
    "df.to_string()"
   ]
  },
  {
   "cell_type": "code",
   "execution_count": null,
   "id": "84ad8d3c-48d0-4b8a-b716-ac243351ef40",
   "metadata": {},
   "outputs": [],
   "source": []
  },
  {
   "cell_type": "code",
   "execution_count": 21,
   "id": "f0c14125-3a48-4cf2-a51c-d4a35c709abf",
   "metadata": {},
   "outputs": [
    {
     "data": {
      "text/html": [
       "<div>\n",
       "<style scoped>\n",
       "    .dataframe tbody tr th:only-of-type {\n",
       "        vertical-align: middle;\n",
       "    }\n",
       "\n",
       "    .dataframe tbody tr th {\n",
       "        vertical-align: top;\n",
       "    }\n",
       "\n",
       "    .dataframe thead th {\n",
       "        text-align: right;\n",
       "    }\n",
       "</style>\n",
       "<table border=\"1\" class=\"dataframe\">\n",
       "  <thead>\n",
       "    <tr style=\"text-align: right;\">\n",
       "      <th></th>\n",
       "      <th>Duration</th>\n",
       "      <th>Pulse</th>\n",
       "      <th>Maxpulse</th>\n",
       "      <th>Calories</th>\n",
       "    </tr>\n",
       "  </thead>\n",
       "  <tbody>\n",
       "    <tr>\n",
       "      <th>1</th>\n",
       "      <td>60</td>\n",
       "      <td>117</td>\n",
       "      <td>145</td>\n",
       "      <td>479</td>\n",
       "    </tr>\n",
       "    <tr>\n",
       "      <th>2</th>\n",
       "      <td>60</td>\n",
       "      <td>103</td>\n",
       "      <td>135</td>\n",
       "      <td>340</td>\n",
       "    </tr>\n",
       "    <tr>\n",
       "      <th>3</th>\n",
       "      <td>45</td>\n",
       "      <td>109</td>\n",
       "      <td>175</td>\n",
       "      <td>282</td>\n",
       "    </tr>\n",
       "    <tr>\n",
       "      <th>4</th>\n",
       "      <td>45</td>\n",
       "      <td>117</td>\n",
       "      <td>148</td>\n",
       "      <td>406</td>\n",
       "    </tr>\n",
       "    <tr>\n",
       "      <th>5</th>\n",
       "      <td>60</td>\n",
       "      <td>102</td>\n",
       "      <td>127</td>\n",
       "      <td>300</td>\n",
       "    </tr>\n",
       "  </tbody>\n",
       "</table>\n",
       "</div>"
      ],
      "text/plain": [
       "   Duration  Pulse  Maxpulse  Calories\n",
       "1        60    117       145       479\n",
       "2        60    103       135       340\n",
       "3        45    109       175       282\n",
       "4        45    117       148       406\n",
       "5        60    102       127       300"
      ]
     },
     "execution_count": 21,
     "metadata": {},
     "output_type": "execute_result"
    }
   ],
   "source": [
    "df.tail()"
   ]
  },
  {
   "cell_type": "code",
   "execution_count": 6,
   "id": "0b675414-6ba9-46bf-9e34-6c54ac2c1f73",
   "metadata": {},
   "outputs": [
    {
     "data": {
      "text/plain": [
       "75.5"
      ]
     },
     "execution_count": 6,
     "metadata": {},
     "output_type": "execute_result"
    }
   ],
   "source": [
    "df[\"Id\"].mean()"
   ]
  },
  {
   "cell_type": "code",
   "execution_count": null,
   "id": "b287afa1-ef68-4cc7-b74a-c7cf08c85d2e",
   "metadata": {},
   "outputs": [],
   "source": [
    "df.info()"
   ]
  },
  {
   "cell_type": "code",
   "execution_count": 25,
   "id": "8d18a88f-f21c-430a-8fcb-4917ca8fd4d7",
   "metadata": {},
   "outputs": [
    {
     "ename": "TypeError",
     "evalue": "'tuple' object is not callable",
     "output_type": "error",
     "traceback": [
      "\u001b[0;31m---------------------------------------------------------------------------\u001b[0m",
      "\u001b[0;31mTypeError\u001b[0m                                 Traceback (most recent call last)",
      "Cell \u001b[0;32mIn[25], line 1\u001b[0m\n\u001b[0;32m----> 1\u001b[0m df\u001b[38;5;241m.\u001b[39mshape()\n",
      "\u001b[0;31mTypeError\u001b[0m: 'tuple' object is not callable"
     ]
    }
   ],
   "source": [
    "df.shape()"
   ]
  },
  {
   "cell_type": "code",
   "execution_count": 8,
   "id": "89585e31-86b9-4ada-8f05-73b8c17ddf1c",
   "metadata": {
    "scrolled": true
   },
   "outputs": [
    {
     "data": {
      "text/plain": [
       "5.8"
      ]
     },
     "execution_count": 8,
     "metadata": {},
     "output_type": "execute_result"
    }
   ],
   "source": [
    "df[\"SepalLengthCm\"].median()"
   ]
  },
  {
   "cell_type": "code",
   "execution_count": 9,
   "id": "707f872c-f8aa-4a29-b2b1-264d9ef1d473",
   "metadata": {},
   "outputs": [
    {
     "data": {
      "text/plain": [
       "0    1.5\n",
       "Name: PetalLengthCm, dtype: float64"
      ]
     },
     "execution_count": 9,
     "metadata": {},
     "output_type": "execute_result"
    }
   ],
   "source": [
    "df[\"PetalLengthCm\"].mode()"
   ]
  },
  {
   "cell_type": "code",
   "execution_count": 10,
   "id": "fa0f68d9-9e9e-432e-8707-cc97041dd3fe",
   "metadata": {},
   "outputs": [
    {
     "name": "stdout",
     "output_type": "stream",
     "text": [
      "2.2.3\n"
     ]
    }
   ],
   "source": [
    "print(pd.__version__)"
   ]
  },
  {
   "cell_type": "code",
   "execution_count": 11,
   "id": "3745ab01-4778-4f4f-9910-548a2b50bff5",
   "metadata": {},
   "outputs": [
    {
     "name": "stdout",
     "output_type": "stream",
     "text": [
      "0    1\n",
      "1    7\n",
      "2    2\n",
      "dtype: int64\n",
      "1\n",
      "Car            5\n",
      "Bus           10\n",
      "Motorcycle    22\n",
      "dtype: int64\n",
      "10\n"
     ]
    }
   ],
   "source": [
    "a = [1, 7, 2]\n",
    "\n",
    "myvar = pd.Series(a)\n",
    "\n",
    "print(myvar)\n",
    "\n",
    "# Lables in Pndas\n",
    "\n",
    "a = [1, 7, 2]\n",
    "\n",
    "myvar = pd.Series(a)\n",
    "\n",
    "print(myvar[0])    # will use index and print value 1\n",
    "\n",
    "# creating labels in pandas \n",
    "\n",
    "a = [5, 10, 22]\n",
    "myvar = pd.Series(a, index = [\"Car\", \"Bus\", \"Motorcycle\"])\n",
    "print(myvar)\n",
    "print(myvar[\"Bus\"])   # access an item by using to the label."
   ]
  },
  {
   "cell_type": "code",
   "execution_count": 12,
   "id": "be2629ee-9f5c-49d4-8f89-1ef60b2e8c4f",
   "metadata": {},
   "outputs": [
    {
     "name": "stdout",
     "output_type": "stream",
     "text": [
      "day1    420\n",
      "day2    380\n",
      "day3    390\n",
      "dtype: int64\n",
      "day1    420\n",
      "day3    390\n",
      "dtype: int64\n",
      "   calories  duration\n",
      "0       420        50\n",
      "1       380        40\n",
      "2       390        45\n",
      "   calories  duration\n",
      "0       420        50\n",
      "1       380        40\n",
      "      calories  duration\n",
      "day1       420        50\n",
      "day2       380        40\n",
      "day3       390        45\n"
     ]
    }
   ],
   "source": [
    "# Key/Value base object in creation of series\n",
    "\n",
    "calories = {\"day1\": 420, \"day2\": 380, \"day3\": 390}\n",
    "\n",
    "myvar = pd.Series(calories)\n",
    "\n",
    "print(myvar)\n",
    "\n",
    "#  Create a Series using dataset index\n",
    "\n",
    "calories = {\"day1\": 420, \"day2\": 380, \"day3\": 390}\n",
    "myvar = pd.Series(calories, index = [\"day1\", \"day3\"])\n",
    "print(myvar)\n",
    "\n",
    "# Creation of Dataframe using two datasets\n",
    "\n",
    "data = {\"calories\": [420, 380, 390],\"duration\": [50, 40, 45]\n",
    "}\n",
    "myvar = pd.DataFrame(data)\n",
    "print(myvar)\n",
    "\n",
    "# \n",
    "data = {\n",
    "  \"calories\": [420, 380, 390],\n",
    "  \"duration\": [50, 40, 45]\n",
    "}\n",
    "df = pd.DataFrame(data)      #load data into a DataFrame object:\n",
    "#print(df)  \n",
    "#print(df.loc[0])             # will reperesent single first row\n",
    "print(df.loc[[0, 1]])      # will reperesent three rows 0,1,2\n",
    " \n",
    "# addix index in dataframe as per requirement\n",
    "\n",
    "data = {\n",
    "  \"calories\": [420, 380, 390],\n",
    "  \"duration\": [50, 40, 45]\n",
    "}\n",
    "\n",
    "df = pd.DataFrame(data, index = [\"day1\", \"day2\", \"day3\"])\n",
    "\n",
    "print(df) \n",
    "# Load Files Into a DataFrame"
   ]
  },
  {
   "cell_type": "code",
   "execution_count": 13,
   "id": "f0403b7b-e868-45c4-9753-2068c1df5845",
   "metadata": {},
   "outputs": [
    {
     "name": "stdout",
     "output_type": "stream",
     "text": [
      "               Id  SepalLengthCm  SepalWidthCm  PetalLengthCm  PetalWidthCm  \\\n",
      "Loan_paid     NaN            NaN           NaN            NaN           NaN   \n",
      "Loan_not_paid NaN            NaN           NaN            NaN           NaN   \n",
      "Defaulter     NaN            NaN           NaN            NaN           NaN   \n",
      "\n",
      "              Species  \n",
      "Loan_paid         NaN  \n",
      "Loan_not_paid     NaN  \n",
      "Defaulter         NaN  \n",
      "               Id  SepalLengthCm  SepalWidthCm  PetalLengthCm  PetalWidthCm Species\n",
      "Loan_paid     NaN            NaN           NaN            NaN           NaN     NaN\n",
      "Loan_not_paid NaN            NaN           NaN            NaN           NaN     NaN\n",
      "Defaulter     NaN            NaN           NaN            NaN           NaN     NaN\n",
      "60\n"
     ]
    }
   ],
   "source": [
    "df = pd.read_csv('Iris.csv')\n",
    "af = pd.DataFrame(df, index = [\"Loan_paid\",\"Loan_not_paid\",\"Defaulter\"])\n",
    "print(af)\n",
    "print(af.to_string())\n",
    "  # max_rows\n",
    "print(pd.options.display.max_rows)\n",
    "\n",
    "# Reading JSON file using Pandas library"
   ]
  },
  {
   "cell_type": "code",
   "execution_count": null,
   "id": "4d1e7069-d1b4-4301-888f-442cfca016e8",
   "metadata": {},
   "outputs": [],
   "source": [
    "data = {\n",
    "  \"Duration\":{\n",
    "    \"0\":60,\n",
    "    \"1\":60,\n",
    "    \"2\":60,\n",
    "    \"3\":45,\n",
    "    \"4\":45,\n",
    "    \"5\":60\n",
    "  },\n",
    "  \"Pulse\":{\n",
    "    \"0\":110,\n",
    "    \"1\":117,\n",
    "    \"2\":103,\n",
    "    \"3\":109,\n",
    "    \"4\":117,\n",
    "    \"5\":102\n",
    "  },\n",
    "  \"Maxpulse\":{\n",
    "    \"0\":130,\n",
    "    \"1\":145,\n",
    "    \"2\":135,\n",
    "    \"3\":175,\n",
    "    \"4\":148,\n",
    "    \"5\":127\n",
    "  },\n",
    "  \"Calories\":{\n",
    "    \"0\":409,\n",
    "    \"1\":479,\n",
    "    \"2\":340,\n",
    "    \"3\":282,\n",
    "    \"4\":406,\n",
    "    \"5\":300\n",
    "  }\n",
    "}\n",
    "\n",
    "df = pd.DataFrame(data)\n",
    "\n",
    "print(df) \n",
    "# /"
   ]
  },
  {
   "cell_type": "code",
   "execution_count": 29,
   "id": "025b7050-b9e2-4489-b923-3a04c964b2f3",
   "metadata": {},
   "outputs": [
    {
     "data": {
      "text/plain": [
       "'3.9.2'"
      ]
     },
     "execution_count": 29,
     "metadata": {},
     "output_type": "execute_result"
    }
   ],
   "source": [
    "import matplotlib as matplot\n",
    "\n",
    "matplot.__version__\n",
    "\n"
   ]
  },
  {
   "cell_type": "code",
   "execution_count": 15,
   "id": "a28149af-f2d5-4b0e-9c60-54ce6bb9f353",
   "metadata": {},
   "outputs": [
    {
     "ename": "FileNotFoundError",
     "evalue": "[Errno 2] No such file or directory: 'C:/Users/cdac/Desktop/loan_data.csv'",
     "output_type": "error",
     "traceback": [
      "\u001b[0;31m---------------------------------------------------------------------------\u001b[0m",
      "\u001b[0;31mFileNotFoundError\u001b[0m                         Traceback (most recent call last)",
      "Cell \u001b[0;32mIn[15], line 3\u001b[0m\n\u001b[1;32m      1\u001b[0m \u001b[38;5;66;03m# Analyzing the data using head() method\u001b[39;00m\n\u001b[0;32m----> 3\u001b[0m df \u001b[38;5;241m=\u001b[39m pd\u001b[38;5;241m.\u001b[39mread_csv(\u001b[38;5;124m'\u001b[39m\u001b[38;5;124mC:/Users/cdac/Desktop/loan_data.csv\u001b[39m\u001b[38;5;124m'\u001b[39m)\n\u001b[1;32m      5\u001b[0m \u001b[38;5;66;03m#print(df.head(5)) \u001b[39;00m\n\u001b[1;32m      6\u001b[0m \u001b[38;5;66;03m#print(df.head(15))\u001b[39;00m\n\u001b[1;32m      7\u001b[0m \u001b[38;5;66;03m#using tail()\u001b[39;00m\n\u001b[1;32m      8\u001b[0m \u001b[38;5;66;03m#print(df.tail())     # Will display only last 5 rows from bottom by default\u001b[39;00m\n\u001b[1;32m      9\u001b[0m \u001b[38;5;28mprint\u001b[39m(df\u001b[38;5;241m.\u001b[39mtail(\u001b[38;5;241m15\u001b[39m))  \u001b[38;5;66;03m# last 15 rows from bottom including header\u001b[39;00m\n",
      "File \u001b[0;32m~/anaconda3/lib/python3.12/site-packages/pandas/io/parsers/readers.py:1026\u001b[0m, in \u001b[0;36mread_csv\u001b[0;34m(filepath_or_buffer, sep, delimiter, header, names, index_col, usecols, dtype, engine, converters, true_values, false_values, skipinitialspace, skiprows, skipfooter, nrows, na_values, keep_default_na, na_filter, verbose, skip_blank_lines, parse_dates, infer_datetime_format, keep_date_col, date_parser, date_format, dayfirst, cache_dates, iterator, chunksize, compression, thousands, decimal, lineterminator, quotechar, quoting, doublequote, escapechar, comment, encoding, encoding_errors, dialect, on_bad_lines, delim_whitespace, low_memory, memory_map, float_precision, storage_options, dtype_backend)\u001b[0m\n\u001b[1;32m   1013\u001b[0m kwds_defaults \u001b[38;5;241m=\u001b[39m _refine_defaults_read(\n\u001b[1;32m   1014\u001b[0m     dialect,\n\u001b[1;32m   1015\u001b[0m     delimiter,\n\u001b[0;32m   (...)\u001b[0m\n\u001b[1;32m   1022\u001b[0m     dtype_backend\u001b[38;5;241m=\u001b[39mdtype_backend,\n\u001b[1;32m   1023\u001b[0m )\n\u001b[1;32m   1024\u001b[0m kwds\u001b[38;5;241m.\u001b[39mupdate(kwds_defaults)\n\u001b[0;32m-> 1026\u001b[0m \u001b[38;5;28;01mreturn\u001b[39;00m _read(filepath_or_buffer, kwds)\n",
      "File \u001b[0;32m~/anaconda3/lib/python3.12/site-packages/pandas/io/parsers/readers.py:620\u001b[0m, in \u001b[0;36m_read\u001b[0;34m(filepath_or_buffer, kwds)\u001b[0m\n\u001b[1;32m    617\u001b[0m _validate_names(kwds\u001b[38;5;241m.\u001b[39mget(\u001b[38;5;124m\"\u001b[39m\u001b[38;5;124mnames\u001b[39m\u001b[38;5;124m\"\u001b[39m, \u001b[38;5;28;01mNone\u001b[39;00m))\n\u001b[1;32m    619\u001b[0m \u001b[38;5;66;03m# Create the parser.\u001b[39;00m\n\u001b[0;32m--> 620\u001b[0m parser \u001b[38;5;241m=\u001b[39m TextFileReader(filepath_or_buffer, \u001b[38;5;241m*\u001b[39m\u001b[38;5;241m*\u001b[39mkwds)\n\u001b[1;32m    622\u001b[0m \u001b[38;5;28;01mif\u001b[39;00m chunksize \u001b[38;5;129;01mor\u001b[39;00m iterator:\n\u001b[1;32m    623\u001b[0m     \u001b[38;5;28;01mreturn\u001b[39;00m parser\n",
      "File \u001b[0;32m~/anaconda3/lib/python3.12/site-packages/pandas/io/parsers/readers.py:1620\u001b[0m, in \u001b[0;36mTextFileReader.__init__\u001b[0;34m(self, f, engine, **kwds)\u001b[0m\n\u001b[1;32m   1617\u001b[0m     \u001b[38;5;28mself\u001b[39m\u001b[38;5;241m.\u001b[39moptions[\u001b[38;5;124m\"\u001b[39m\u001b[38;5;124mhas_index_names\u001b[39m\u001b[38;5;124m\"\u001b[39m] \u001b[38;5;241m=\u001b[39m kwds[\u001b[38;5;124m\"\u001b[39m\u001b[38;5;124mhas_index_names\u001b[39m\u001b[38;5;124m\"\u001b[39m]\n\u001b[1;32m   1619\u001b[0m \u001b[38;5;28mself\u001b[39m\u001b[38;5;241m.\u001b[39mhandles: IOHandles \u001b[38;5;241m|\u001b[39m \u001b[38;5;28;01mNone\u001b[39;00m \u001b[38;5;241m=\u001b[39m \u001b[38;5;28;01mNone\u001b[39;00m\n\u001b[0;32m-> 1620\u001b[0m \u001b[38;5;28mself\u001b[39m\u001b[38;5;241m.\u001b[39m_engine \u001b[38;5;241m=\u001b[39m \u001b[38;5;28mself\u001b[39m\u001b[38;5;241m.\u001b[39m_make_engine(f, \u001b[38;5;28mself\u001b[39m\u001b[38;5;241m.\u001b[39mengine)\n",
      "File \u001b[0;32m~/anaconda3/lib/python3.12/site-packages/pandas/io/parsers/readers.py:1880\u001b[0m, in \u001b[0;36mTextFileReader._make_engine\u001b[0;34m(self, f, engine)\u001b[0m\n\u001b[1;32m   1878\u001b[0m     \u001b[38;5;28;01mif\u001b[39;00m \u001b[38;5;124m\"\u001b[39m\u001b[38;5;124mb\u001b[39m\u001b[38;5;124m\"\u001b[39m \u001b[38;5;129;01mnot\u001b[39;00m \u001b[38;5;129;01min\u001b[39;00m mode:\n\u001b[1;32m   1879\u001b[0m         mode \u001b[38;5;241m+\u001b[39m\u001b[38;5;241m=\u001b[39m \u001b[38;5;124m\"\u001b[39m\u001b[38;5;124mb\u001b[39m\u001b[38;5;124m\"\u001b[39m\n\u001b[0;32m-> 1880\u001b[0m \u001b[38;5;28mself\u001b[39m\u001b[38;5;241m.\u001b[39mhandles \u001b[38;5;241m=\u001b[39m get_handle(\n\u001b[1;32m   1881\u001b[0m     f,\n\u001b[1;32m   1882\u001b[0m     mode,\n\u001b[1;32m   1883\u001b[0m     encoding\u001b[38;5;241m=\u001b[39m\u001b[38;5;28mself\u001b[39m\u001b[38;5;241m.\u001b[39moptions\u001b[38;5;241m.\u001b[39mget(\u001b[38;5;124m\"\u001b[39m\u001b[38;5;124mencoding\u001b[39m\u001b[38;5;124m\"\u001b[39m, \u001b[38;5;28;01mNone\u001b[39;00m),\n\u001b[1;32m   1884\u001b[0m     compression\u001b[38;5;241m=\u001b[39m\u001b[38;5;28mself\u001b[39m\u001b[38;5;241m.\u001b[39moptions\u001b[38;5;241m.\u001b[39mget(\u001b[38;5;124m\"\u001b[39m\u001b[38;5;124mcompression\u001b[39m\u001b[38;5;124m\"\u001b[39m, \u001b[38;5;28;01mNone\u001b[39;00m),\n\u001b[1;32m   1885\u001b[0m     memory_map\u001b[38;5;241m=\u001b[39m\u001b[38;5;28mself\u001b[39m\u001b[38;5;241m.\u001b[39moptions\u001b[38;5;241m.\u001b[39mget(\u001b[38;5;124m\"\u001b[39m\u001b[38;5;124mmemory_map\u001b[39m\u001b[38;5;124m\"\u001b[39m, \u001b[38;5;28;01mFalse\u001b[39;00m),\n\u001b[1;32m   1886\u001b[0m     is_text\u001b[38;5;241m=\u001b[39mis_text,\n\u001b[1;32m   1887\u001b[0m     errors\u001b[38;5;241m=\u001b[39m\u001b[38;5;28mself\u001b[39m\u001b[38;5;241m.\u001b[39moptions\u001b[38;5;241m.\u001b[39mget(\u001b[38;5;124m\"\u001b[39m\u001b[38;5;124mencoding_errors\u001b[39m\u001b[38;5;124m\"\u001b[39m, \u001b[38;5;124m\"\u001b[39m\u001b[38;5;124mstrict\u001b[39m\u001b[38;5;124m\"\u001b[39m),\n\u001b[1;32m   1888\u001b[0m     storage_options\u001b[38;5;241m=\u001b[39m\u001b[38;5;28mself\u001b[39m\u001b[38;5;241m.\u001b[39moptions\u001b[38;5;241m.\u001b[39mget(\u001b[38;5;124m\"\u001b[39m\u001b[38;5;124mstorage_options\u001b[39m\u001b[38;5;124m\"\u001b[39m, \u001b[38;5;28;01mNone\u001b[39;00m),\n\u001b[1;32m   1889\u001b[0m )\n\u001b[1;32m   1890\u001b[0m \u001b[38;5;28;01massert\u001b[39;00m \u001b[38;5;28mself\u001b[39m\u001b[38;5;241m.\u001b[39mhandles \u001b[38;5;129;01mis\u001b[39;00m \u001b[38;5;129;01mnot\u001b[39;00m \u001b[38;5;28;01mNone\u001b[39;00m\n\u001b[1;32m   1891\u001b[0m f \u001b[38;5;241m=\u001b[39m \u001b[38;5;28mself\u001b[39m\u001b[38;5;241m.\u001b[39mhandles\u001b[38;5;241m.\u001b[39mhandle\n",
      "File \u001b[0;32m~/anaconda3/lib/python3.12/site-packages/pandas/io/common.py:873\u001b[0m, in \u001b[0;36mget_handle\u001b[0;34m(path_or_buf, mode, encoding, compression, memory_map, is_text, errors, storage_options)\u001b[0m\n\u001b[1;32m    868\u001b[0m \u001b[38;5;28;01melif\u001b[39;00m \u001b[38;5;28misinstance\u001b[39m(handle, \u001b[38;5;28mstr\u001b[39m):\n\u001b[1;32m    869\u001b[0m     \u001b[38;5;66;03m# Check whether the filename is to be opened in binary mode.\u001b[39;00m\n\u001b[1;32m    870\u001b[0m     \u001b[38;5;66;03m# Binary mode does not support 'encoding' and 'newline'.\u001b[39;00m\n\u001b[1;32m    871\u001b[0m     \u001b[38;5;28;01mif\u001b[39;00m ioargs\u001b[38;5;241m.\u001b[39mencoding \u001b[38;5;129;01mand\u001b[39;00m \u001b[38;5;124m\"\u001b[39m\u001b[38;5;124mb\u001b[39m\u001b[38;5;124m\"\u001b[39m \u001b[38;5;129;01mnot\u001b[39;00m \u001b[38;5;129;01min\u001b[39;00m ioargs\u001b[38;5;241m.\u001b[39mmode:\n\u001b[1;32m    872\u001b[0m         \u001b[38;5;66;03m# Encoding\u001b[39;00m\n\u001b[0;32m--> 873\u001b[0m         handle \u001b[38;5;241m=\u001b[39m \u001b[38;5;28mopen\u001b[39m(\n\u001b[1;32m    874\u001b[0m             handle,\n\u001b[1;32m    875\u001b[0m             ioargs\u001b[38;5;241m.\u001b[39mmode,\n\u001b[1;32m    876\u001b[0m             encoding\u001b[38;5;241m=\u001b[39mioargs\u001b[38;5;241m.\u001b[39mencoding,\n\u001b[1;32m    877\u001b[0m             errors\u001b[38;5;241m=\u001b[39merrors,\n\u001b[1;32m    878\u001b[0m             newline\u001b[38;5;241m=\u001b[39m\u001b[38;5;124m\"\u001b[39m\u001b[38;5;124m\"\u001b[39m,\n\u001b[1;32m    879\u001b[0m         )\n\u001b[1;32m    880\u001b[0m     \u001b[38;5;28;01melse\u001b[39;00m:\n\u001b[1;32m    881\u001b[0m         \u001b[38;5;66;03m# Binary mode\u001b[39;00m\n\u001b[1;32m    882\u001b[0m         handle \u001b[38;5;241m=\u001b[39m \u001b[38;5;28mopen\u001b[39m(handle, ioargs\u001b[38;5;241m.\u001b[39mmode)\n",
      "\u001b[0;31mFileNotFoundError\u001b[0m: [Errno 2] No such file or directory: 'C:/Users/cdac/Desktop/loan_data.csv'"
     ]
    }
   ],
   "source": [
    "# Analyzing the data using head() method\n",
    "\n",
    "df = pd.read_csv('C:/Users/cdac/Desktop/loan_data.csv')\n",
    "\n",
    "#print(df.head(5)) \n",
    "#print(df.head(15))\n",
    "#using tail()\n",
    "#print(df.tail())     # Will display only last 5 rows from bottom by default\n",
    "print(df.tail(15))  # last 15 rows from bottom including header\n",
    "\n",
    "print(df.info())   # To get the information of datasets\n",
    "\n",
    "# Data cleaning Remove empty cells / rows from a data set\n",
    "df = pd.read_csv('C:/Users/cdac/Desktop/loan_data.csv')\n",
    "new_df = df.dropna()     # will return new data set and no change in original\n",
    "newdf = df.dropna(inplace = True) # will change in original data set\n",
    "print(new_df.to_string())\n",
    "\n",
    "# Inserting new values in empty cells in original dataset\n",
    "\n",
    "df = pd.read_csv('C:/Users/cdac/Desktop/loan_data.csv')\n",
    "df.fillna(25, inplace = True)\n",
    "print(df.to_string())\n",
    "\n",
    "# Replaces all empty cells in the whole Data Frame.\n",
    "df = pd.read_csv('C:/Users/cdac/Desktop/loan_data.csv')\n",
    "df[\"installment\"].fillna(777, inplace = True)\n",
    "print(df[\"installment\"].to_string())\n",
    "\n",
    "# Replce empty cell by using Mean(), Median(), Mode()\n",
    "df = pd.read_csv('C:/Users/cdac/Desktop/ytube.csv')\n",
    "x = df[\"commentCount\"].mean()           #calculate the respective values for a specified column:\n",
    "df[\"commentCount\"].fillna(x, inplace = True)\n",
    "print(df[\"commentCount\"].to_string())\n",
    "# Replce empty cell by using Median()\n",
    "df = pd.read_csv('C:/Users/cdac/Desktop/ytube.csv')\n",
    "x = df[\"commentCount\"].median()          #calculate the respective values for a specified column:\n",
    "df[\"commentCount\"].fillna(x, inplace = True)\n",
    "print(df[\"commentCount\"].to_string())                                        \n",
    "\n",
    "# Replce empty cell by using  Mode()         \n",
    "df = pd.read_csv('C:/Users/cdac/Desktop/ytube.csv')\n",
    "x = df[\"commentCount\"].mode()          #calculate the respective values for a specified column:\n",
    "df[\"commentCount\"].fillna(x, inplace = True)\n",
    "print(df[\"commentCount\"].to_string())\n",
    "# Cleaning wrong data\n",
    "df = pd.read_csv('C:/Users/cdac/Desktop/ytube.csv')\n",
    "df['pub_date'] = pd.to_datetime(df['pub_date'])  \n",
    "print(df[\"pub_date\"].to_string())\n",
    "# Removing cells containing wrong data\n",
    "df = pd.read_csv('C:/Users/cdac/Desktop/ytube.csv')\n",
    "df.dropna(subset=['pub_date'], inplace = True)\n",
    "print(df[\"pub_date\"].to_string())\n",
    "# Fixing wrong data\n",
    "df = pd.read_csv('C:/Users/cdac/Desktop/ytube.csv')\n",
    "df.loc[7, 'pub_date'] = 45\n",
    "print(df[\"pub_date\"].to_string())\n",
    "\n",
    "# To check whether any duplicate rows exist in dataset\n",
    "df = pd.read_csv('C:/Users/cdac/Desktop/ytube.csv')\n",
    "print(df.duplicated())\n",
    "df.drop_duplicates(inplace = True)\n",
    "print(df)\n",
    "\n",
    "# Corelation in python\n",
    "df.corr()\n",
    "print(df.to_string())\n",
    "\n",
    "# Matplotlib to visulize the result on screen import matplotlib.pyplot as plt library\n",
    "\n",
    "import matplotlib.pyplot as plt \n",
    "df = pd.read_csv('C:/Users/cdac/Desktop/loan_data.csv')\n",
    "df.plot()\n",
    "df.plot(kind = 'hist', x = 'Duration', y = 'Calories')\n",
    "plt.show()"
   ]
  },
  {
   "cell_type": "code",
   "execution_count": 17,
   "id": "0ef11188-a9db-4e57-9ae8-824cb848547f",
   "metadata": {
    "scrolled": true
   },
   "outputs": [
    {
     "ename": "FileNotFoundError",
     "evalue": "logging.conf doesn't exist",
     "output_type": "error",
     "traceback": [
      "\u001b[0;31m---------------------------------------------------------------------------\u001b[0m",
      "\u001b[0;31mFileNotFoundError\u001b[0m                         Traceback (most recent call last)",
      "Cell \u001b[0;32mIn[17], line 3\u001b[0m\n\u001b[1;32m      1\u001b[0m \u001b[38;5;28;01mimport\u001b[39;00m \u001b[38;5;21;01mlogging\u001b[39;00m\n\u001b[1;32m      2\u001b[0m \u001b[38;5;28;01mimport\u001b[39;00m \u001b[38;5;21;01mlogging\u001b[39;00m\u001b[38;5;21;01m.\u001b[39;00m\u001b[38;5;21;01mconfig\u001b[39;00m\n\u001b[0;32m----> 3\u001b[0m logging\u001b[38;5;241m.\u001b[39mconfig\u001b[38;5;241m.\u001b[39mfileConfig(\u001b[38;5;124m'\u001b[39m\u001b[38;5;124mlogging.conf\u001b[39m\u001b[38;5;124m'\u001b[39m)\n\u001b[1;32m      4\u001b[0m \u001b[38;5;66;03m# create logger\u001b[39;00m\n\u001b[1;32m      5\u001b[0m logger \u001b[38;5;241m=\u001b[39m logging\u001b[38;5;241m.\u001b[39mgetLogger(\u001b[38;5;124m'\u001b[39m\u001b[38;5;124msimpleExample\u001b[39m\u001b[38;5;124m'\u001b[39m)\n",
      "File \u001b[0;32m~/anaconda3/lib/python3.12/logging/config.py:66\u001b[0m, in \u001b[0;36mfileConfig\u001b[0;34m(fname, defaults, disable_existing_loggers, encoding)\u001b[0m\n\u001b[1;32m     64\u001b[0m \u001b[38;5;28;01mif\u001b[39;00m \u001b[38;5;28misinstance\u001b[39m(fname, \u001b[38;5;28mstr\u001b[39m):\n\u001b[1;32m     65\u001b[0m     \u001b[38;5;28;01mif\u001b[39;00m \u001b[38;5;129;01mnot\u001b[39;00m os\u001b[38;5;241m.\u001b[39mpath\u001b[38;5;241m.\u001b[39mexists(fname):\n\u001b[0;32m---> 66\u001b[0m         \u001b[38;5;28;01mraise\u001b[39;00m \u001b[38;5;167;01mFileNotFoundError\u001b[39;00m(\u001b[38;5;124mf\u001b[39m\u001b[38;5;124m\"\u001b[39m\u001b[38;5;132;01m{\u001b[39;00mfname\u001b[38;5;132;01m}\u001b[39;00m\u001b[38;5;124m doesn\u001b[39m\u001b[38;5;124m'\u001b[39m\u001b[38;5;124mt exist\u001b[39m\u001b[38;5;124m\"\u001b[39m)\n\u001b[1;32m     67\u001b[0m     \u001b[38;5;28;01melif\u001b[39;00m \u001b[38;5;129;01mnot\u001b[39;00m os\u001b[38;5;241m.\u001b[39mpath\u001b[38;5;241m.\u001b[39mgetsize(fname):\n\u001b[1;32m     68\u001b[0m         \u001b[38;5;28;01mraise\u001b[39;00m \u001b[38;5;167;01mRuntimeError\u001b[39;00m(\u001b[38;5;124mf\u001b[39m\u001b[38;5;124m'\u001b[39m\u001b[38;5;132;01m{\u001b[39;00mfname\u001b[38;5;132;01m}\u001b[39;00m\u001b[38;5;124m is an empty file\u001b[39m\u001b[38;5;124m'\u001b[39m)\n",
      "\u001b[0;31mFileNotFoundError\u001b[0m: logging.conf doesn't exist"
     ]
    }
   ],
   "source": [
    "import logging\n",
    "import logging.config\n",
    "# create logger\n",
    "logger = logging.getLogger('simpleExample')\n",
    "# 'application' code\n",
    "logger.debug('debug message')\n",
    "logger.info('info message')\n",
    "logger.warning('warn message')\n",
    "logger.error('error message')\n",
    "logger.critical('critical message')"
   ]
  }
 ],
 "metadata": {
  "kernelspec": {
   "display_name": "Python 3 (ipykernel)",
   "language": "python",
   "name": "python3"
  },
  "language_info": {
   "codemirror_mode": {
    "name": "ipython",
    "version": 3
   },
   "file_extension": ".py",
   "mimetype": "text/x-python",
   "name": "python",
   "nbconvert_exporter": "python",
   "pygments_lexer": "ipython3",
   "version": "3.12.5"
  }
 },
 "nbformat": 4,
 "nbformat_minor": 5
}
