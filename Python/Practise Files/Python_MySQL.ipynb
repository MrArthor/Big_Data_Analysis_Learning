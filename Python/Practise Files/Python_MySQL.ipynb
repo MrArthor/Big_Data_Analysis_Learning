{
 "cells": [
  {
   "cell_type": "code",
   "execution_count": 5,
   "metadata": {},
   "outputs": [
    {
     "name": "stdout",
     "output_type": "stream",
     "text": [
      "Collecting mysql-connector-python\n",
      "  Downloading mysql_connector_python-9.1.0-cp312-cp312-manylinux_2_28_x86_64.whl.metadata (6.0 kB)\n",
      "Downloading mysql_connector_python-9.1.0-cp312-cp312-manylinux_2_28_x86_64.whl (34.4 MB)\n",
      "\u001b[2K   \u001b[38;2;114;156;31m━━━━━━━━━━━━━━━━━━━━━━━━━━━━━━━━━━━━━━━━\u001b[0m \u001b[32m34.4/34.4 MB\u001b[0m \u001b[31m14.9 MB/s\u001b[0m eta \u001b[36m0:00:00\u001b[0mm eta \u001b[36m0:00:01\u001b[0m0:01\u001b[0m:01\u001b[0m\n",
      "\u001b[?25hInstalling collected packages: mysql-connector-python\n",
      "Successfully installed mysql-connector-python-9.1.0\n"
     ]
    }
   ],
   "source": [
    "!python -m pip install mysql-connector-python"
   ]
  },
  {
   "cell_type": "code",
   "execution_count": 6,
   "metadata": {},
   "outputs": [],
   "source": [
    "import mysql.connector"
   ]
  },
  {
   "cell_type": "code",
   "execution_count": 9,
   "metadata": {},
   "outputs": [],
   "source": [
    "# create a data base\n",
    "db = mysql.connector.connect( host=\"localhost\",  user=\"root\",  passwd=\"009483\")"
   ]
  },
  {
   "cell_type": "code",
   "execution_count": 11,
   "metadata": {},
   "outputs": [],
   "source": [
    "# cursor object c\n",
    "cur = db.cursor()"
   ]
  },
  {
   "cell_type": "code",
   "execution_count": 13,
   "metadata": {},
   "outputs": [],
   "source": [
    "# executing the create database statement\n",
    "cur.execute(\"CREATE DATABASE employee_db\")"
   ]
  },
  {
   "cell_type": "code",
   "execution_count": 15,
   "metadata": {},
   "outputs": [
    {
     "name": "stdout",
     "output_type": "stream",
     "text": [
      "('CDACACTS',)\n",
      "('Dept',)\n",
      "('Emp',)\n",
      "('EmployeeDB',)\n",
      "('JavaDb',)\n",
      "('assignment2',)\n",
      "('cdac',)\n",
      "('demo',)\n",
      "('employee_db',)\n",
      "('information_schema',)\n",
      "('mysql',)\n",
      "('performance_schema',)\n",
      "('sys',)\n"
     ]
    }
   ],
   "source": [
    "# fetching all the databases\n",
    "cur.execute(\"SHOW DATABASES\")\n",
    "for i in cur:\n",
    "    print(i)\n",
    "cur = db.cursor()"
   ]
  },
  {
   "cell_type": "code",
   "execution_count": 19,
   "metadata": {},
   "outputs": [],
   "source": [
    "# create of table\n",
    "db = mysql.connector.connect( host=\"localhost\", user=\"root\",  passwd=\"009483\", database=\"employee_db\")\n",
    "cur = db.cursor()"
   ]
  },
  {
   "cell_type": "code",
   "execution_count": 21,
   "metadata": {},
   "outputs": [],
   "source": [
    "# create statement for tblemployee\n",
    "employeetbl_create = \"\"\"CREATE TABLE `employee_db`.`tblemployee` (`empid` INT NOT NULL AUTO_INCREMENT,  `empname` VARCHAR(45) NULL,`department` VARCHAR(45) NULL,  `salary` INT NULL,   PRIMARY KEY (`empid`))\"\"\"\n",
    "cur.execute(employeetbl_create)\n",
    "cur= db.cursor()"
   ]
  },
  {
   "cell_type": "code",
   "execution_count": 23,
   "metadata": {},
   "outputs": [
    {
     "name": "stdout",
     "output_type": "stream",
     "text": [
      "('empid', 'int', 'NO', 'PRI', None, 'auto_increment')\n",
      "('empname', 'varchar(45)', 'YES', '', None, '')\n",
      "('department', 'varchar(45)', 'YES', '', None, '')\n",
      "('salary', 'int', 'YES', '', None, '')\n"
     ]
    }
   ],
   "source": [
    "# fetch tblemployee details in the database\n",
    "cur.execute(\"desc tblemployee\")\n",
    "# print the table details\n",
    "for i in cur:\n",
    "    print(i)"
   ]
  },
  {
   "cell_type": "code",
   "execution_count": 27,
   "metadata": {},
   "outputs": [],
   "source": [
    "############### insert multirow for tblemployee\n",
    "employeetbl_insert = \"\"\"INSERT INTO tblemployee (empname, department,salary)    VALUES  (%s, %s, %s)\"\"\"\n",
    " # we save all the row data to be inserted in a data variable\n",
    "data = [(\"Vani\", \"HR\", \"100000\"), (\"Krish\", \"Accounts\", \"60000\"), (\"Aishwarya\", \"Sales\", \"25000\"),  (\"Govind\", \"Marketing\", \"40000\")]\n",
    " # execute the insert commands for all rows and commit to the database\n",
    "cur.executemany(employeetbl_insert, data)\n",
    "db.commit()"
   ]
  },
  {
   "cell_type": "code",
   "execution_count": 29,
   "metadata": {},
   "outputs": [
    {
     "name": "stdout",
     "output_type": "stream",
     "text": [
      "(1, 'Vani', 'HR', 100000)\n",
      "(2, 'Krish', 'Accounts', 60000)\n",
      "(3, 'Aishwarya', 'Sales', 25000)\n",
      "(4, 'Govind', 'Marketing', 40000)\n",
      "(5, 'Vani', 'HR', 100000)\n",
      "(6, 'Krish', 'Accounts', 60000)\n",
      "(7, 'Aishwarya', 'Sales', 25000)\n",
      "(8, 'Govind', 'Marketing', 40000)\n"
     ]
    }
   ],
   "source": [
    "#################### fetch data from the table\n",
    "employeetbl_select = \"\"\"SELECT * FROM tblemployee\"\"\"\n",
    " # execute the select query to fetch all rows\n",
    "cur.execute(employeetbl_select)\n",
    " # fetch all the data returned by the database\n",
    "employee_data = cur.fetchall()\n",
    " # print all the data returned by the database\n",
    "for e in employee_data:\n",
    "    print(e)"
   ]
  },
  {
   "cell_type": "code",
   "execution_count": null,
   "metadata": {},
   "outputs": [],
   "source": [
    "import mysql.connector\n",
    "\n",
    "# create a data base\n",
    "\n",
    "db = mysql.connector.connect( host=\"localhost\",  user=\"root\",  passwd=\"admin1234\")\n",
    "# cursor object cur\n",
    "cur = db.cursor()\n",
    "\n",
    "# create database statement\n",
    "\n",
    "cur.execute(\"CREATE DATABASE employee_db2\")\n",
    "# fetching all the databases\n",
    "cur.execute(\"SHOW DATABASES\")\n",
    "for i in cur:\n",
    "    print(i)\n",
    "cur = db.cursor()\n",
    "\n",
    "# create of table\n",
    "db = mysql.connector.connect( host=\"localhost\", user=\"root\",  passwd=\"password\", database=\"employee_db2\")\n",
    "cur = db.cursor()\n",
    "\n",
    "# create statement for tblemployee\n",
    "employeetbl_create = \"\"\"CREATE TABLE `employee_db2`.`tblemployee` (`empid` INT NOT NULL AUTO_INCREMENT,  `empname` VARCHAR(45) NULL,`department` VARCHAR(45) NULL,  `salary` INT NULL, PRIMARY KEY (`empid`))\"\"\"\n",
    "cur.execute(employeetbl_create)\n",
    "cur= db.cursor()\n",
    "\n",
    "# fetch tblemployee details in the database\n",
    "cur.execute(\"desc tblemployee\")\n",
    "# print the table details\n",
    "for i in cur:\n",
    "    print(i)\n",
    "\n",
    "############### insert multirow for tblemployee\n",
    "employeetbl_insert = \"\"\"INSERT INTO tblemployee (empname, department,salary)    VALUES  (%s, %s, %s)\"\"\"\n",
    "# we save all the row data to be inserted in a data variable\n",
    "data = [(\"Vani\", \"HR\", \"100000\"), (\"Krish\", \"Accounts\", \"60000\"), (\"Aishwarya\", \"Sales\", \"25000\"),  (\"Govind\", \"Marketing\", \"40000\")]\n",
    "# execute the insert commands for all rows and commit to the database\n",
    "cur.executemany(employeetbl_insert, data)\n",
    "db.commit()\n",
    "\n",
    "#################### fetch data from the table\n",
    "employeetbl_select = \"\"\"SELECT * FROM tblemployee\"\"\"\n",
    "# execute the select query to fetch all rows\n",
    "cur.execute(employeetbl_select)\n",
    "# fetch all the data returned by the database\n",
    "employee_data = cur.fetchall()\n",
    "# print all the data returned by the database\n",
    "for e in employee_data:\n",
    "    print(e)\n",
    "\n",
    "##########update data from table\n",
    "\n",
    "employeetbl_update = \"UPDATE tblemployee SET salary = 115000 WHERE empid = 1\"\n",
    "# the salary of employee with\n",
    "# employee id = 1 and commit to the database\n",
    "cur.execute(employeetbl_update)\n",
    "db.commit()\n",
    "\n",
    "##################### delete statement for tblemployee\n",
    "\n",
    "employeetbl_delete = \"DELETE FROM tblemployee WHERE empid=3\"\n",
    "cur.execute(employeetbl_delete)\n",
    "db.commit()\n",
    " \n",
    "# closing the database connection\n",
    "db.close()\n"
   ]
  },
  {
   "cell_type": "code",
   "execution_count": 38,
   "metadata": {},
   "outputs": [
    {
     "name": "stdout",
     "output_type": "stream",
     "text": [
      "3.12.5 | packaged by Anaconda, Inc. | (main, Sep 12 2024, 18:27:27) [GCC 11.2.0]\n"
     ]
    }
   ],
   "source": [
    "import sys\n",
    "print(sys.version)\n"
   ]
  }
 ],
 "metadata": {
  "kernelspec": {
   "display_name": "Python 3 (ipykernel)",
   "language": "python",
   "name": "python3"
  },
  "language_info": {
   "codemirror_mode": {
    "name": "ipython",
    "version": 3
   },
   "file_extension": ".py",
   "mimetype": "text/x-python",
   "name": "python",
   "nbconvert_exporter": "python",
   "pygments_lexer": "ipython3",
   "version": "3.12.5"
  }
 },
 "nbformat": 4,
 "nbformat_minor": 4
}
