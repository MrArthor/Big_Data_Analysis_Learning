{
 "cells": [
  {
   "cell_type": "code",
   "execution_count": 1,
   "id": "0152bda1-4bbe-4b40-ad92-e60e54e073e6",
   "metadata": {},
   "outputs": [
    {
     "name": "stdout",
     "output_type": "stream",
     "text": [
      "Type 1 Error Rate (False Positive): 0.049973\n"
     ]
    }
   ],
   "source": [
    "from sklearn.datasets import load_iris\n",
    "import numpy as np\n",
    "from scipy.stats import ttest_ind\n",
    "\n",
    "# Load the iris dataset\n",
    "iris = load_iris()\n",
    "data = iris.data  # features\n",
    "target = iris.target  # species labels\n",
    "\n",
    "# Filter data for two species: setosa (label 0) and versicolor (label 1)\n",
    "setosa_sepal_length = data[target == 0][:, 0]  # Sepal length for setosa\n",
    "versicolor_sepal_length = data[target == 1][:, 0]  # Sepal length for versicolor\n",
    "\n",
    "# Simulation parameters\n",
    "alpha = 0.05\n",
    "num_simulations = 1000000\n",
    "sample_size = 25\n",
    "\n",
    "# 9p\n",
    "type_1_error_count = 0\n",
    "type_2_error_count = 0\n",
    "\n",
    "# Type 1 Error Simulation: Compare setosa vs. setosa (identical distribution)\n",
    "for _ in range(num_simulations):\n",
    "    group1 = np.random.choice(setosa_sepal_length, sample_size, replace=True)\n",
    "    group2 = np.random.choice(setosa_sepal_length, sample_size, replace=True)\n",
    "    t_stat, p_value = ttest_ind(group1, group2)\n",
    "    if p_value < alpha:\n",
    "        type_1_error_count += 1\n",
    "\n",
    "# Type 2 Error Simulation: Compare setosa vs. versicolor (different distributions)\n",
    "\n",
    "# Calculate error rates\n",
    "type_1_error_rate = type_1_error_count / num_simulations\n",
    "\n",
    "# Output results\n",
    "print(\"Type 1 Error Rate (False Positive):\", type_1_error_rate)\n"
   ]
  },
  {
   "cell_type": "code",
   "execution_count": null,
   "id": "d2874636-48bb-4d18-b5c3-51dbc5a5f7d4",
   "metadata": {},
   "outputs": [],
   "source": []
  },
  {
   "cell_type": "code",
   "execution_count": 8,
   "id": "60898ae7-53e2-4e4e-ae61-5139bf13fa10",
   "metadata": {},
   "outputs": [
    {
     "name": "stdout",
     "output_type": "stream",
     "text": [
      "Defaulting to user installation because normal site-packages is not writeable\n",
      "Collecting scikit-learn\n",
      "  Using cached scikit_learn-1.5.2-cp312-cp312-manylinux_2_17_x86_64.manylinux2014_x86_64.whl.metadata (13 kB)\n",
      "Requirement already satisfied: numpy>=1.19.5 in /usr/lib/python3/dist-packages (from scikit-learn) (1.26.4)\n",
      "Requirement already satisfied: scipy>=1.6.0 in /usr/lib/python3/dist-packages (from scikit-learn) (1.11.4)\n",
      "Collecting joblib>=1.2.0 (from scikit-learn)\n",
      "  Using cached joblib-1.4.2-py3-none-any.whl.metadata (5.4 kB)\n",
      "Collecting threadpoolctl>=3.1.0 (from scikit-learn)\n",
      "  Using cached threadpoolctl-3.5.0-py3-none-any.whl.metadata (13 kB)\n",
      "Using cached scikit_learn-1.5.2-cp312-cp312-manylinux_2_17_x86_64.manylinux2014_x86_64.whl (12.9 MB)\n",
      "Using cached joblib-1.4.2-py3-none-any.whl (301 kB)\n",
      "Using cached threadpoolctl-3.5.0-py3-none-any.whl (18 kB)\n",
      "Installing collected packages: threadpoolctl, joblib, scikit-learn\n",
      "Successfully installed joblib-1.4.2 scikit-learn-1.5.2 threadpoolctl-3.5.0\n"
     ]
    }
   ],
   "source": [
    "\n",
    "!pip install scikit-learn --break-system-packages\n"
   ]
  },
  {
   "cell_type": "code",
   "execution_count": null,
   "id": "05bd1db5-7831-4950-baee-1021af4cd360",
   "metadata": {},
   "outputs": [],
   "source": []
  },
  {
   "cell_type": "code",
   "execution_count": null,
   "id": "e2423d44-a387-4555-a410-1e90bd6aad11",
   "metadata": {},
   "outputs": [],
   "source": [
    "from sklearn.datasets import load_iris\n",
    "import numpy as np\n",
    "from scipy.stats import ttest_ind\n",
    "\n",
    "# Load the iris dataset\n",
    "iris = load_iris()\n",
    "data = iris.data  # features\n",
    "target = iris.target  # species labels\n",
    "\n",
    "# Filter data for two species: setosa (label 0) and versicolor (label 1)\n",
    "setosa_sepal_length = data[target == 0][:, 0]  # Sepal length for setosa\n",
    "versicolor_sepal_length = data[target == 1][:, 0]  # Sepal length for versicolor\n",
    "\n",
    "# Simulation parameters\n",
    "alpha = 0.05\n",
    "num_simulations = 10000000\n",
    "sample_size = 25\n",
    "\n",
    "# 9p\n",
    "type_1_error_count = 0\n",
    "type_2_error_count = 0\n",
    "\n",
    "# Type 1 Error Simulation: Compare setosa vs. setosa (identical distribution)\n",
    "for _ in range(num_simulations):\n",
    "    group1 = np.random.choice(setosa_sepal_length, sample_size, replace=True)\n",
    "    group2 = np.random.choice(setosa_sepal_length, sample_size, replace=True)\n",
    "    t_stat, p_value = ttest_ind(group1, group2)\n",
    "    if p_value < alpha:\n",
    "        type_1_error_count += 1\n",
    "\n",
    "# Type 2 Error Simulation: Compare setosa vs. versicolor (different distributions)\n",
    "\n",
    "# Calculate error rates\n",
    "type_1_error_rate = type_1_error_count / num_simulations\n",
    "\n",
    "# Output results\n",
    "print(\"Type 1 Error Rate (False Positive):\", type_1_error_rate)\n"
   ]
  }
 ],
 "metadata": {
  "kernelspec": {
   "display_name": "Python 3",
   "language": "python",
   "name": "python3"
  },
  "language_info": {
   "codemirror_mode": {
    "name": "ipython",
    "version": 3
   },
   "file_extension": ".py",
   "mimetype": "text/x-python",
   "name": "python",
   "nbconvert_exporter": "python",
   "pygments_lexer": "ipython3",
   "version": "3.12.3"
  }
 },
 "nbformat": 4,
 "nbformat_minor": 5
}
