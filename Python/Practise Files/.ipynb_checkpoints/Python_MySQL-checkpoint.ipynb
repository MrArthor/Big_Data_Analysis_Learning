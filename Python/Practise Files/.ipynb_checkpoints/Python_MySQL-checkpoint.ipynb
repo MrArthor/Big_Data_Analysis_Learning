{
 "cells": [
  {
   "cell_type": "code",
   "execution_count": 4,
   "metadata": {},
   "outputs": [
    {
     "name": "stdout",
     "output_type": "stream",
     "text": [
      "Collecting mysql-connector-python\n",
      "  Downloading mysql_connector_python-9.1.0-cp313-cp313-win_amd64.whl.metadata (6.2 kB)\n",
      "Downloading mysql_connector_python-9.1.0-cp313-cp313-win_amd64.whl (16.1 MB)\n",
      "   ---------------------------------------- 0.0/16.1 MB ? eta -:--:--\n",
      "   - -------------------------------------- 0.5/16.1 MB 5.9 MB/s eta 0:00:03\n",
      "   ---- ----------------------------------- 1.8/16.1 MB 6.0 MB/s eta 0:00:03\n",
      "   --------- ------------------------------ 3.7/16.1 MB 6.9 MB/s eta 0:00:02\n",
      "   ------------- -------------------------- 5.2/16.1 MB 7.1 MB/s eta 0:00:02\n",
      "   ---------------- ----------------------- 6.8/16.1 MB 7.2 MB/s eta 0:00:02\n",
      "   ------------------ --------------------- 7.6/16.1 MB 6.7 MB/s eta 0:00:02\n",
      "   ---------------------- ----------------- 8.9/16.1 MB 6.6 MB/s eta 0:00:02\n",
      "   -------------------------- ------------- 10.5/16.1 MB 6.7 MB/s eta 0:00:01\n",
      "   ------------------------------- -------- 12.6/16.1 MB 7.1 MB/s eta 0:00:01\n",
      "   ---------------------------------- ----- 13.9/16.1 MB 7.1 MB/s eta 0:00:01\n",
      "   ---------------------------------------  16.0/16.1 MB 7.3 MB/s eta 0:00:01\n",
      "   ---------------------------------------- 16.1/16.1 MB 7.1 MB/s eta 0:00:00\n",
      "Installing collected packages: mysql-connector-python\n",
      "Successfully installed mysql-connector-python-9.1.0\n"
     ]
    }
   ],
   "source": [
    "!python -m pip install mysql-connector-python"
   ]
  },
  {
   "cell_type": "code",
   "execution_count": 7,
   "metadata": {},
   "outputs": [],
   "source": [
    "import mysql.connector"
   ]
  },
  {
   "cell_type": "code",
   "execution_count": 14,
   "metadata": {},
   "outputs": [],
   "source": [
    "# create a data base\n",
    "db = mysql.connector.connect( host=\"localhost\",  user=\"root\",  passwd=\"nikage205\")"
   ]
  },
  {
   "cell_type": "code",
   "execution_count": 15,
   "metadata": {},
   "outputs": [],
   "source": [
    "# cursor object c\n",
    "cur = db.cursor()"
   ]
  },
  {
   "cell_type": "code",
   "execution_count": 18,
   "metadata": {},
   "outputs": [],
   "source": [
    "# executing the create database statement\n",
    "cur.execute(\"CREATE DATABASE employee_db\")"
   ]
  },
  {
   "cell_type": "code",
   "execution_count": 19,
   "metadata": {},
   "outputs": [
    {
     "name": "stdout",
     "output_type": "stream",
     "text": [
      "('employee_db',)\n",
      "('information_schema',)\n",
      "('java_connecter',)\n",
      "('javadb',)\n",
      "('mysql',)\n",
      "('performance_schema',)\n",
      "('sys',)\n"
     ]
    }
   ],
   "source": [
    "# fetching all the databases\n",
    "cur.execute(\"SHOW DATABASES\")\n",
    "for i in cur:\n",
    "    print(i)\n",
    "cur = db.cursor()"
   ]
  },
  {
   "cell_type": "code",
   "execution_count": 20,
   "metadata": {},
   "outputs": [],
   "source": [
    "# create of table\n",
    "db = mysql.connector.connect( host=\"localhost\", user=\"root\",  passwd=\"nikage205\", database=\"employee_db\")\n",
    "cur = db.cursor()"
   ]
  },
  {
   "cell_type": "code",
   "execution_count": 21,
   "metadata": {},
   "outputs": [],
   "source": [
    "# create statement for tblemployee\n",
    "employeetbl_create = \"\"\"CREATE TABLE `employee_db`.`tblemployee` (`empid` INT NOT NULL AUTO_INCREMENT,  `empname` VARCHAR(45) NULL,`department` VARCHAR(45) NULL,  `salary` INT NULL,   PRIMARY KEY (`empid`))\"\"\"\n",
    "cur.execute(employeetbl_create)\n",
    "cur= db.cursor()"
   ]
  },
  {
   "cell_type": "code",
   "execution_count": 22,
   "metadata": {},
   "outputs": [
    {
     "name": "stdout",
     "output_type": "stream",
     "text": [
      "('empid', 'int', 'NO', 'PRI', None, 'auto_increment')\n",
      "('empname', 'varchar(45)', 'YES', '', None, '')\n",
      "('department', 'varchar(45)', 'YES', '', None, '')\n",
      "('salary', 'int', 'YES', '', None, '')\n"
     ]
    }
   ],
   "source": [
    "# fetch tblemployee details in the database\n",
    "cur.execute(\"desc tblemployee\")\n",
    "# print the table details\n",
    "for i in cur:\n",
    "    print(i)"
   ]
  },
  {
   "cell_type": "code",
   "execution_count": 23,
   "metadata": {},
   "outputs": [],
   "source": [
    "############### insert multirow for tblemployee\n",
    "employeetbl_insert = \"\"\"INSERT INTO tblemployee (empname, department,salary)    VALUES  (%s, %s, %s)\"\"\"\n",
    " # we save all the row data to be inserted in a data variable\n",
    "data = [(\"Vani\", \"HR\", \"100000\"), (\"Krish\", \"Accounts\", \"60000\"), (\"Aishwarya\", \"Sales\", \"25000\"),  (\"Govind\", \"Marketing\", \"40000\")]\n",
    " # execute the insert commands for all rows and commit to the database\n",
    "cur.executemany(employeetbl_insert, data)\n",
    "db.commit()"
   ]
  },
  {
   "cell_type": "code",
   "execution_count": 26,
   "metadata": {},
   "outputs": [
    {
     "ename": "InternalError",
     "evalue": "Unread result found",
     "output_type": "error",
     "traceback": [
      "\u001b[1;31m---------------------------------------------------------------------------\u001b[0m",
      "\u001b[1;31mInternalError\u001b[0m                             Traceback (most recent call last)",
      "Cell \u001b[1;32mIn[26], line 4\u001b[0m\n\u001b[0;32m      2\u001b[0m employeetbl_select \u001b[38;5;241m=\u001b[39m \u001b[38;5;124m\"\"\"\u001b[39m\u001b[38;5;124mSELECT * FROM tblemployee\u001b[39m\u001b[38;5;124m\"\"\"\u001b[39m\n\u001b[0;32m      3\u001b[0m  \u001b[38;5;66;03m# execute the select query to fetch all rows\u001b[39;00m\n\u001b[1;32m----> 4\u001b[0m \u001b[43mcur\u001b[49m\u001b[38;5;241;43m.\u001b[39;49m\u001b[43mexecute\u001b[49m\u001b[43m(\u001b[49m\u001b[43memployeetbl_select\u001b[49m\u001b[43m)\u001b[49m\n\u001b[0;32m      5\u001b[0m  \u001b[38;5;66;03m# fetch all the data returned by the database\u001b[39;00m\n\u001b[0;32m      6\u001b[0m employee_data \u001b[38;5;241m=\u001b[39m cur\u001b[38;5;241m.\u001b[39mfetchall()\n",
      "File \u001b[1;32mc:\\Users\\jainn\\AppData\\Local\\Programs\\Python\\Python313\\Lib\\site-packages\\mysql\\connector\\cursor_cext.py:331\u001b[0m, in \u001b[0;36mCMySQLCursor.execute\u001b[1;34m(self, operation, params, multi)\u001b[0m\n\u001b[0;32m    329\u001b[0m \u001b[38;5;28;01mexcept\u001b[39;00m (ProgrammingError, \u001b[38;5;167;01mReferenceError\u001b[39;00m) \u001b[38;5;28;01mas\u001b[39;00m err:\n\u001b[0;32m    330\u001b[0m     \u001b[38;5;28;01mraise\u001b[39;00m ProgrammingError(\u001b[38;5;124m\"\u001b[39m\u001b[38;5;124mCursor is not connected\u001b[39m\u001b[38;5;124m\"\u001b[39m, \u001b[38;5;241m2055\u001b[39m) \u001b[38;5;28;01mfrom\u001b[39;00m \u001b[38;5;21;01merr\u001b[39;00m\n\u001b[1;32m--> 331\u001b[0m \u001b[38;5;28;43mself\u001b[39;49m\u001b[38;5;241;43m.\u001b[39;49m\u001b[43m_connection\u001b[49m\u001b[38;5;241;43m.\u001b[39;49m\u001b[43mhandle_unread_result\u001b[49m\u001b[43m(\u001b[49m\u001b[43m)\u001b[49m\n\u001b[0;32m    333\u001b[0m stmt \u001b[38;5;241m=\u001b[39m \u001b[38;5;124mb\u001b[39m\u001b[38;5;124m\"\u001b[39m\u001b[38;5;124m\"\u001b[39m\n\u001b[0;32m    334\u001b[0m \u001b[38;5;28mself\u001b[39m\u001b[38;5;241m.\u001b[39mreset()\n",
      "File \u001b[1;32mc:\\Users\\jainn\\AppData\\Local\\Programs\\Python\\Python313\\Lib\\site-packages\\mysql\\connector\\connection_cext.py:1047\u001b[0m, in \u001b[0;36mCMySQLConnection.handle_unread_result\u001b[1;34m(self, prepared)\u001b[0m\n\u001b[0;32m   1045\u001b[0m     \u001b[38;5;28mself\u001b[39m\u001b[38;5;241m.\u001b[39mconsume_results()\n\u001b[0;32m   1046\u001b[0m \u001b[38;5;28;01melif\u001b[39;00m unread_result:\n\u001b[1;32m-> 1047\u001b[0m     \u001b[38;5;28;01mraise\u001b[39;00m InternalError(\u001b[38;5;124m\"\u001b[39m\u001b[38;5;124mUnread result found\u001b[39m\u001b[38;5;124m\"\u001b[39m)\n",
      "\u001b[1;31mInternalError\u001b[0m: Unread result found"
     ]
    }
   ],
   "source": [
    "#################### fetch data from the table\n",
    "employeetbl_select = \"\"\"SELECT * FROM tblemployee\"\"\"\n",
    " # execute the select query to fetch all rows\n",
    "cur.execute(employeetbl_select)\n",
    " # fetch all the data returned by the database\n",
    "employee_data = cur.fetchall()\n",
    " # print all the data returned by the database\n",
    "for e in employee_data:\n",
    "    print(e)"
   ]
  }
 ],
 "metadata": {
  "kernelspec": {
   "display_name": "Python 3",
   "language": "python",
   "name": "python3"
  },
  "language_info": {
   "codemirror_mode": {
    "name": "ipython",
    "version": 3
   },
   "file_extension": ".py",
   "mimetype": "text/x-python",
   "name": "python",
   "nbconvert_exporter": "python",
   "pygments_lexer": "ipython3",
   "version": "3.13.0"
  }
 },
 "nbformat": 4,
 "nbformat_minor": 2
}
