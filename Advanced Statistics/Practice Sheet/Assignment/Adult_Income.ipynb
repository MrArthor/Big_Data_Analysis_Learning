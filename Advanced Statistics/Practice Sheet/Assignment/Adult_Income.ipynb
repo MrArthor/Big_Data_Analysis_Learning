{
 "cells": [
  {
   "cell_type": "code",
   "execution_count": null,
   "metadata": {
    "colab": {
     "base_uri": "https://localhost:8080/",
     "height": 1000
    },
    "id": "8pxNvoXl-WBp",
    "outputId": "c1a7125c-ea5b-4f85-cd59-cec332162e44"
   },
   "outputs": [],
   "source": [
    "import pandas as pd\n",
    "import matplotlib.pyplot as plt\n",
    "\n",
    "# Load the Adult Income dataset (assuming 'adult.csv' is available)\n",
    "adult_df = pd.read_csv('adult.csv')\n",
    "\n",
    "# columns of adult_df\n",
    "# print(adult_df.columns)\n",
    "\n",
    "\n",
    "#\n",
    "# 1. Stratified sampling based on 'Income' (20% sample from each income level)\n",
    "stratified_income_sample = adult_df.groupby('income', group_keys=False).apply(lambda x: x.sample(frac=0.2, random_state=1))\n",
    "\n",
    "# 2. Stratified sampling based on 'Education' (20% sample from each education level)\n",
    "stratified_education_sample = adult_df.groupby('education', group_keys=False).apply(lambda x: x.sample(frac=0.2, random_state=1))\n",
    "\n",
    "# Plotting the results of stratified sampling based on Income\n",
    "plt.figure(figsize=(10, 6))\n",
    "stratified_income_sample['income'].value_counts().plot(kind='bar', color='skyblue')\n",
    "plt.title('Stratified Sampling Based on Income', fontsize=14)\n",
    "plt.xlabel('Income Level', fontsize=12)\n",
    "plt.ylabel('Count', fontsize=12)\n",
    "plt.xticks(rotation=0)\n",
    "plt.show()\n",
    "\n",
    "# Plotting the results of stratified sampling based on Education\n",
    "plt.figure(figsize=(12, 6))\n",
    "stratified_education_sample['education'].value_counts().plot(kind='bar', color='salmon')\n",
    "plt.title('Stratified Sampling Based on Education', fontsize=14)\n",
    "plt.xlabel('Education Level', fontsize=12)\n",
    "plt.ylabel('Count', fontsize=12)\n",
    "plt.xticks(rotation=45, ha='right')\n",
    "plt.show()\n",
    "\n",
    "# Displaying the counts for reference\n",
    "print(f\"\\nStratified sampling based on Income:\\n{stratified_income_sample['income'].value_counts()}\")\n",
    "print(f\"\\nStratified sampling based on Education:\\n{stratified_education_sample['education'].value_counts()}\")\n",
    "\n",
    "\n",
    "\n",
    "import pandas as pd\n",
    "\n",
    "# Load the Adult Income dataset\n",
    "adult_df = pd.read_csv('adult.csv')\n",
    "\n",
    "# Calculate central tendencies for 'age' and 'hours-per-week'\n",
    "central_tendency = {}\n",
    "\n",
    "# For age\n",
    "central_tendency['age'] = {\n",
    "    'Mean': adult_df['age'].mean(),\n",
    "    'Median': adult_df['age'].median(),\n",
    "    'Mode': adult_df['age'].mode()[0]  # Taking the first mode in case of multiple modes\n",
    "}\n",
    "\n",
    "# For hours per week (Work Hours)\n",
    "central_tendency['hours-per-week'] = {\n",
    "    'Mean': adult_df['hours-per-week'].mean(),\n",
    "    'Median': adult_df['hours-per-week'].median(),\n",
    "    'Mode': adult_df['hours-per-week'].mode()[0]  # Taking the first mode in case of multiple modes\n",
    "}\n",
    "\n",
    "# Convert to DataFrame for better readability\n",
    "central_tendency_df = pd.DataFrame(central_tendency)\n",
    "\n",
    "# Display the central tendencies\n",
    "print(\"\\nCentral Tendencies for 'Age' and 'Hours-per-week':\")\n",
    "print(central_tendency_df)"
   ]
  }
 ],
 "metadata": {
  "colab": {
   "provenance": []
  },
  "kernelspec": {
   "display_name": "Python 3 (ipykernel)",
   "language": "python",
   "name": "python3"
  },
  "language_info": {
   "codemirror_mode": {
    "name": "ipython",
    "version": 3
   },
   "file_extension": ".py",
   "mimetype": "text/x-python",
   "name": "python",
   "nbconvert_exporter": "python",
   "pygments_lexer": "ipython3",
   "version": "3.12.5"
  }
 },
 "nbformat": 4,
 "nbformat_minor": 4
}
